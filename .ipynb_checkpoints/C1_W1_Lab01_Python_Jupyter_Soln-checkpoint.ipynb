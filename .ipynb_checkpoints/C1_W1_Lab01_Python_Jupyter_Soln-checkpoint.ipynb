{
 "cells": [
  {
   "cell_type": "markdown",
   "metadata": {},
   "source": [
    "# Laboratório Opcional: Introdução Breve ao Python e Jupyter Notebooks\n",
    "Bem-vindo ao primeiro laboratório opcional!\n",
    "Os laboratórios opcionais estão disponíveis para:\n",
    "- fornecer informações - como este notebook\n",
    "- reforçar o material das aulas com exemplos práticos\n",
    "- fornecer exemplos funcionais de rotinas usadas nos laboratórios avaliados"
   ]
  },
  {
   "cell_type": "markdown",
   "metadata": {},
   "source": [
    "## Objetivos\n",
    "Neste laboratório, você irá:\n",
    "- Obter uma breve introdução aos Jupyter notebooks\n",
    "- Fazer um tour pelos Jupyter notebooks\n",
    "- Aprender a diferença entre células markdown e células de código\n",
    "- Praticar um pouco de Python"
   ]
  },
  {
   "cell_type": "markdown",
   "metadata": {},
   "source": [
    "A maneira mais fácil de se familiarizar com os Jupyter notebooks é fazer o tour disponível acima no menu Ajuda:"
   ]
  },
  {
   "cell_type": "markdown",
   "metadata": {},
   "source": [
    "<figure>\n",
    "    <center> <img src=\"./images/C1W1L1_Tour.PNG\"  alt='imagem ausente' width=\"400\"  ><center/>\n",
    "<figure/>"
   ]
  },
  {
   "cell_type": "markdown",
   "metadata": {},
   "source": [
    "Os Jupyter notebooks têm dois tipos de células usadas neste curso. Células como esta que contêm documentação são chamadas de `Células Markdown`. O nome é derivado da linguagem de formatação simples usada nas células. Você não será obrigado a produzir células markdown. É útil entender o `menu suspenso da célula` mostrado na imagem abaixo. Ocasionalmente, uma célula pode acabar no modo errado e você pode precisar restaurá-la ao estado correto:"
   ]
  },
  {
   "cell_type": "markdown",
   "metadata": {},
   "source": [
    "<figure>\n",
    "   <img src=\"./images/C1W1L1_Markdown.PNG\"  alt='imagem ausente' width=\"400\"  >\n",
    "<figure/>"
   ]
  },
  {
   "cell_type": "markdown",
   "metadata": {},
   "source": [
    "O outro tipo de célula é a `célula de código`, onde você escreverá seu código:"
   ]
  },
  {
   "cell_type": "code",
   "execution_count": 1,
   "metadata": {},
   "outputs": [
    {
     "name": "stdout",
     "output_type": "stream",
     "text": [
      "Esta é uma célula de código\n"
     ]
    }
   ],
   "source": [
    "# Esta é uma 'Célula de Código'\n",
    "print(\"Esta é uma célula de código\")"
   ]
  },
  {
   "cell_type": "markdown",
   "metadata": {},
   "source": [
    "## Python\n",
    "Você pode escrever seu código nas células de código.\n",
    "Para executar o código, selecione a célula e\n",
    "- mantenha a tecla shift pressionada e pressione 'enter' ou 'return'\n",
    "- clique na seta 'executar' acima\n",
    "<figure>\n",
    "    <img src=\"./images/C1W1L1_Run.PNG\"  width=\"400\"  >\n",
    "<figure/>\n"
   ]
  },
  {
   "cell_type": "markdown",
   "metadata": {},
   "source": [
    "### Declaração de impressão\n",
    "As declarações de impressão geralmente usarão o estilo f-string do Python.\n",
    "Tente criar sua própria impressão na célula a seguir.\n",
    "Tente ambos os métodos de execução da célula."
   ]
  },
  {
   "cell_type": "code",
   "execution_count": 2,
   "metadata": {},
   "outputs": [
    {
     "name": "stdout",
     "output_type": "stream",
     "text": [
      "As f strings permitem que você insira variáveis correto nas strings!\n"
     ]
    }
   ],
   "source": [
    "# declarações de impressão\n",
    "variável = \"correto nas strings!\"\n",
    "print(f\"As f strings permitem que você insira variáveis {variável}\")"
   ]
  },
  {
   "cell_type": "markdown",
   "metadata": {},
   "source": [
    "# Parabéns!\n",
    "Agora você sabe como se orientar em um Jupyter Notebook."
   ]
  },
  {
   "cell_type": "code",
   "execution_count": null,
   "metadata": {},
   "outputs": [],
   "source": []
  }
 ],
 "metadata": {
  "kernelspec": {
   "display_name": "Python 3",
   "language": "python",
   "name": "python3"
  },
  "language_info": {
   "codemirror_mode": {
    "name": "ipython",
    "version": 3
   },
   "file_extension": ".py",
   "mimetype": "text/x-python",
   "name": "python",
   "nbconvert_exporter": "python",
   "pygments_lexer": "ipython3",
   "version": "3.7.6"
  }
 },
 "nbformat": 4,
 "nbformat_minor": 5
}
