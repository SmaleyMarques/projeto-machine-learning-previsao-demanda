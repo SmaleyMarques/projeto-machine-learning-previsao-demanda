{
 "cells": [
  {
   "cell_type": "markdown",
   "metadata": {},
   "source": [
    "# Laboratório Opcional: Representação de Modelo\n",
    "\n",
    "<figure>\n",
    " <img src=\"./images/C1_W1_L3_S1_Lecture_b.png\"   style=\"width:600px;height:200px;\">\n",
    "</figure>"
   ]
  },
  {
   "cell_type": "markdown",
   "metadata": {},
   "source": [
    "## Objetivos\n",
    "Neste laboratório você irá:\n",
    "- Aprender a implementar o modelo $f_{w,b}$ para regressão linear com uma variável"
   ]
  },
  {
   "cell_type": "markdown",
   "metadata": {},
   "source": [
    "## Notação\n",
    "Aqui está um resumo de algumas das notações que você encontrará.\n",
    "\n",
    "| Notação Geral <img width=70/> <br /> | Descrição<img width=350/>| Python (se aplicável) |\n",
    "|: ------------|: ------------------------------------------------------------||\n",
    "| $a$ | escalar, não em negrito                                                      ||\n",
    "| $\\mathbf{a}$ | vetor, em negrito                                                      ||\n",
    "| **Regressão** |         |    |     |\n",
    "|  $\\mathbf{x}$ | Valores das características do exemplo de treinamento (neste laboratório - Tamanho (1000 pés quadrados))  | `x_train` |   \n",
    "|  $\\mathbf{y}$  | Alvos do exemplo de treinamento (neste laboratório - Preço (em milhares de dólares))  | `y_train` \n",
    "|  $x^{(i)}$, $y^{(i)}$ | $i_{ésimo}$ Exemplo de Treinamento | `x_i`, `y_i`|\n",
    "| m | Número de exemplos de treinamento | `m`|\n",
    "|  $w$  |  parâmetro: peso                                 | `w`    |\n",
    "|  $b$           |  parâmetro: viés                                           | `b`    |     \n",
    "| $f_{w,b}(x^{(i)})$ | O resultado da avaliação do modelo em $x^{(i)}$ parametrizado por $w,b$: $f_{w,b}(x^{(i)}) = wx^{(i)}+b$  | `f_wb` |"
   ]
  },
  {
   "cell_type": "markdown",
   "metadata": {},
   "source": [
    "## Ferramentas\n",
    "Neste laboratório, você utilizará:\n",
    "- NumPy, uma biblioteca popular para computação científica\n",
    "- Matplotlib, uma biblioteca popular para plotagem de dados"
   ]
  },
  {
   "cell_type": "code",
   "execution_count": 4,
   "metadata": {},
   "outputs": [],
   "source": [
    "import numpy as np\n",
    "import matplotlib.pyplot as plt\n",
    "plt.style.use('./deeplearning.mplstyle')"
   ]
  },
  {
   "cell_type": "markdown",
   "metadata": {},
   "source": [
    "# Declaração do Problema\n",
    "<img align=\"left\" src=\"./images/C1_W1_L3_S1_trainingdata.png\"    style=\" width:380px; padding: 10px;  \" /> \n",
    "\n",
    "Assim como na palestra, você utilizará o exemplo motivador da previsão de preços de imóveis.\n",
    "Este laboratório usará um conjunto de dados simples com apenas dois pontos de dados - uma casa com 1000 pés quadrados (sqft) vendida por \\\\$300.000 e uma casa com 2000 pés quadrados vendida por \\\\$500.000. Esses dois pontos constituirão nosso *conjunto de dados ou conjunto de treinamento*. Neste laboratório, as unidades de tamanho são 1000 sqft e as unidades de preço são em milhares de dólares.\n",
    "\n",
    "| Tamanho (1000 sqft)     | Preço (em milhares de dólares) |\n",
    "| -------------------| ------------------------ |\n",
    "| 1.0               | 300                      |\n",
    "| 2.0               | 500                      |\n",
    "\n",
    "Você gostaria de ajustar um modelo de regressão linear (mostrado acima como a linha azul reta) através desses dois pontos, para então prever o preço de outras casas - digamos, uma casa com 1200 sqft."
   ]
  },
  {
   "cell_type": "markdown",
   "metadata": {},
   "source": [
    "Por favor, execute a seguinte célula de código para criar suas variáveis `x_train` e `y_train`. Os dados são armazenados em arrays NumPy unidimensionais."
   ]
  },
  {
   "cell_type": "code",
   "execution_count": 5,
   "metadata": {},
   "outputs": [
    {
     "name": "stdout",
     "output_type": "stream",
     "text": [
      "x_train = [1. 2.]\n",
      "y_train = [300. 500.]\n"
     ]
    }
   ],
   "source": [
    "# x_train é a variável de entrada (tamanho em 1000 pés quadrados)\n",
    "# y_train é o alvo (preço em milhares de dólares)\n",
    "x_train = np.array([1.0, 2.0])\n",
    "y_train = np.array([300.0, 500.0])\n",
    "print(f\"x_train = {x_train}\")\n",
    "print(f\"y_train = {y_train}\")"
   ]
  },
  {
   "cell_type": "markdown",
   "metadata": {},
   "source": [
    "> **Nota**: O curso frequentemente utilizará a formatação de saída 'f-string' do Python, descrita [aqui](https://docs.python.org/3/tutorial/inputoutput.html) ao imprimir. O conteúdo entre chaves é avaliado ao produzir a saída."
   ]
  },
  {
   "cell_type": "markdown",
   "metadata": {},
   "source": [
    "### Número de exemplos de treinamento `m`\n",
    "Você usará `m` para denotar o número de exemplos de treinamento. Arrays NumPy possuem um parâmetro `.shape`. `x_train.shape` retorna uma tupla do Python com uma entrada para cada dimensão. `x_train.shape[0]` é o comprimento do array e o número de exemplos, como mostrado abaixo."
   ]
  },
  {
   "cell_type": "code",
   "execution_count": 6,
   "metadata": {},
   "outputs": [
    {
     "name": "stdout",
     "output_type": "stream",
     "text": [
      "x_train.shape: (2,)\n",
      "O número de exemplos de treinamento é: 2\n"
     ]
    }
   ],
   "source": [
    "# m é o número de exemplos de treinamento\n",
    "print(f\"x_train.shape: {x_train.shape}\")\n",
    "m = x_train.shape[0]\n",
    "print(f\"O número de exemplos de treinamento é: {m}\")"
   ]
  },
  {
   "cell_type": "markdown",
   "metadata": {},
   "source": [
    "Também é possível usar a função `len()` do Python, como mostrado abaixo."
   ]
  },
  {
   "cell_type": "code",
   "execution_count": 7,
   "metadata": {},
   "outputs": [
    {
     "name": "stdout",
     "output_type": "stream",
     "text": [
      "O número de exemplos de treinamento é: 2\n"
     ]
    }
   ],
   "source": [
    "# m é o número de exemplos de treinamento\n",
    "m = len(x_train)\n",
    "print(f\"O número de exemplos de treinamento é: {m}\")"
   ]
  },
  {
   "cell_type": "markdown",
   "metadata": {},
   "source": [
    "### Exemplo de treinamento `x_i, y_i`\n",
    "\n",
    "Você usará (x$^{(i)}$, y$^{(i)}$) para denotar o $i^{ésimo}$ exemplo de treinamento. Como o Python é indexado a partir de zero, (x$^{(0)}$, y$^{(0)}$) é (1.0, 300.0) e (x$^{(1)}$, y$^{(1)}$) é (2.0, 500.0).\n",
    "\n",
    "Para acessar um valor em um array NumPy, indexa-se o array com o deslocamento desejado. Por exemplo, a sintaxe para acessar a localização zero de `x_train` é `x_train[0]`.\n",
    "Execute o próximo bloco de código abaixo para obter o $i^{ésimo}$ exemplo de treinamento."
   ]
  },
  {
   "cell_type": "code",
   "execution_count": 9,
   "metadata": {},
   "outputs": [
    {
     "name": "stdout",
     "output_type": "stream",
     "text": [
      "(x^(0), y^(0)) = (1.0, 300.0)\n"
     ]
    }
   ],
   "source": [
    "i = 0 # Mude isso para 1 para ver (x^1, y^1)\n",
    "\n",
    "x_i = x_train[i]\n",
    "y_i = y_train[i]\n",
    "print(f\"(x^({i}), y^({i})) = ({x_i}, {y_i})\")"
   ]
  },
  {
   "cell_type": "markdown",
   "metadata": {},
   "source": [
    "### Plotando os dados\n",
    "\n",
    "Você pode plotar esses dois pontos usando a função `scatter()` na biblioteca `matplotlib`, como mostrado na célula abaixo.\n",
    "- Os argumentos da função `marker` e `c` mostram os pontos como cruzes vermelhas (o padrão são pontos azuis).\n",
    "\n",
    "Você pode usar outras funções na biblioteca `matplotlib` para definir o título e rótulos a serem exibidos."
   ]
  },
  {
   "cell_type": "code",
   "execution_count": 10,
   "metadata": {},
   "outputs": [
    {
     "data": {
      "image/png": "[encoded data removed]",
      "text/plain": [
       "<Figure size 432x288 with 1 Axes>"
      ]
     },
     "metadata": {},
     "output_type": "display_data"
    }
   ],
   "source": [
    "# Plote os pontos de dados\n",
    "plt.scatter(x_train, y_train, marker='x', c='r')\n",
    "# Defina o título\n",
    "plt.title(\"Preços de Imóveis\")\n",
    "# Defina o rótulo do eixo y\n",
    "plt.ylabel('Preço (em milhares de dólares)')\n",
    "# Defina o rótulo do eixo x\n",
    "plt.xlabel('Tamanho (1000 sqft)')\n",
    "plt.show()"
   ]
  },
  {
   "cell_type": "markdown",
   "metadata": {},
   "source": [
    "## Função do modelo\n",
    "\n",
    "<img align=\"left\" src=\"./images/C1_W1_L3_S1_model.png\"     style=\" width:380px; padding: 10px; \" > Como descrito na palestra, a função do modelo para regressão linear (que é uma função que mapeia de `x` para `y`) é representada como \n",
    "\n",
    "$$ f_{w,b}(x^{(i)}) = wx^{(i)} + b \\tag{1}$$\n",
    "\n",
    "A fórmula acima é como você pode representar linhas retas - diferentes valores de $w$ e $b$ fornecem diferentes linhas retas no gráfico. <br/> <br/> <br/> <br/> <br/>\n",
    "\n",
    "Vamos tentar obter uma melhor intuição para isso através dos blocos de código abaixo. Vamos começar com $w = 100$ e $b = 100$.\n",
    "\n",
    "**Nota: Você pode voltar a esta célula para ajustar os parâmetros w e b do modelo**"
   ]
  },
  {
   "cell_type": "code",
   "execution_count": 11,
   "metadata": {},
   "outputs": [
    {
     "name": "stdout",
     "output_type": "stream",
     "text": [
      "w: 200\n",
      "b: 100\n"
     ]
    }
   ],
   "source": [
    "w = 200\n",
    "b = 100\n",
    "print(f\"w: {w}\")\n",
    "print(f\"b: {b}\")"
   ]
  },
  {
   "cell_type": "markdown",
   "metadata": {},
   "source": [
    "Agora, vamos calcular o valor de $f_{w,b}(x^{(i)})$ para seus dois pontos de dados. Você pode escrever isso explicitamente para cada ponto de dados como -\n",
    "\n",
    "para $x^{(0)}$, `f_wb = w * x[0] + b`\n",
    "\n",
    "para $x^{(1)}$, `f_wb = w * x[1] + b`\n",
    "\n",
    "Para um grande número de pontos de dados, isso pode se tornar complicado e repetitivo. Portanto, em vez disso, você pode calcular a saída da função em um loop `for` conforme mostrado na função `compute_model_output` abaixo.\n",
    "> **Nota**: A descrição do argumento `(ndarray (m,))` descreve um array NumPy n-dimensional de forma (m,). `(escalar)` descreve um argumento sem dimensões, apenas uma magnitude.\n",
    "> **Nota**: `np.zero(n)` retornará um array NumPy unidimensional com $n$ entradas\n"
   ]
  },
  {
   "cell_type": "code",
   "execution_count": 12,
   "metadata": {},
   "outputs": [],
   "source": [
    "def compute_model_output(x, w, b):\n",
    "    \"\"\"\n",
    "    Computa a previsão de um modelo linear\n",
    "    Args:\n",
    "      x (ndarray (m,)): Dados, m exemplos \n",
    "      w, b (escalar)   : parâmetros do modelo  \n",
    "    Returns\n",
    "      f_wb (ndarray (m,)): previsão do modelo\n",
    "    \"\"\"\n",
    "    m = x.shape[0]\n",
    "    f_wb = np.zeros(m)\n",
    "    for i in range(m):\n",
    "        f_wb[i] = w * x[i] + b\n",
    "        \n",
    "    return f_wb"
   ]
  },
  {
   "cell_type": "markdown",
   "metadata": {},
   "source": [
    "Agora, vamos chamar a função `compute_model_output` e plotar a saída."
   ]
  },
  {
   "cell_type": "code",
   "execution_count": 13,
   "metadata": {},
   "outputs": [
    {
     "data": {
      "image/png": "[encoded data removed]",
      "text/plain": [
       "<Figure size 432x288 with 1 Axes>"
      ]
     },
     "metadata": {},
     "output_type": "display_data"
    }
   ],
   "source": [
    "tmp_f_wb = compute_model_output(x_train, w, b,)\n",
    "\n",
    "# Plote nossa previsão do modelo\n",
    "plt.plot(x_train, tmp_f_wb, c='b',label='Nossa Previsão')\n",
    "\n",
    "# Plote os pontos de dados\n",
    "plt.scatter(x_train, y_train, marker='x', c='r',label='Valores Reais')\n",
    "\n",
    "# Defina o título\n",
    "plt.title(\"Preços de Imóveis\")\n",
    "# Defina o rótulo do eixo y\n",
    "plt.ylabel('Preço (em milhares de dólares)')\n",
    "# Defina o rótulo do eixo x\n",
    "plt.xlabel('Tamanho (1000 sqft)')\n",
    "plt.legend()\n",
    "plt.show()\n"
   ]
  },
  {
   "cell_type": "markdown",
   "metadata": {},
   "source": [
    "Como você pode ver, definir $w = 100$ e $b = 100$ *não* resulta em uma linha que se ajusta aos nossos dados.\n",
    "\n",
    "### Desafio\n",
    "Experimente diferentes valores de $w$ e $b$. Quais devem ser os valores para uma linha que se ajuste aos nossos dados?\n",
    "\n",
    "#### Dica:\n",
    "Você pode usar o mouse para clicar nas \"Dicas\" verdes abaixo para revelar algumas dicas para escolher b e w."
   ]
  },
  {
   "cell_type": "markdown",
   "metadata": {},
   "source": [
    "<details>\n",
    "<summary>\n",
    "    <font size='3' color='darkgreen'><b>Dicas</b></font>\n",
    "</summary>\n",
    "    <p>\n",
    "    <ul>\n",
    "        <li>Tente $w = 200$ e $b = 100$</li>\n",
    "    </ul>\n",
    "    </p>"
   ]
  },
  {
   "cell_type": "markdown",
   "metadata": {},
   "source": [
    "### Previsão\n",
    "Agora que temos um modelo, podemos usá-lo para fazer nossa previsão original. Vamos prever o preço de uma casa com 1200 pés quadrados. Como as unidades de $x$ estão em milhares de pés quadrados, $x$ é 1.2."
   ]
  },
  {
   "cell_type": "code",
   "execution_count": 14,
   "metadata": {},
   "outputs": [
    {
     "name": "stdout",
     "output_type": "stream",
     "text": [
      "$340 mil dólares\n"
     ]
    }
   ],
   "source": [
    "w = 200                         \n",
    "b = 100    \n",
    "x_i = 1.2\n",
    "custo_1200sqft = w * x_i + b    \n",
    "\n",
    "print(f\"${custo_1200sqft:.0f} mil dólares\")"
   ]
  },
  {
   "cell_type": "markdown",
   "metadata": {},
   "source": [
    "# Parabéns!\n",
    "Neste laboratório, você aprendeu:\n",
    "- A regressão linear constrói um modelo que estabelece uma relação entre características e alvos.\n",
    "     - No exemplo acima, a característica era o tamanho da casa e o alvo era o preço da casa.\n",
    "     - para a regressão linear simples, o modelo tem dois parâmetros $w$ e $b$ cujos valores são 'ajustados' usando *dados de treinamento*.\n",
    "     - uma vez que os parâmetros de um modelo tenham sido determinados, o modelo pode ser usado para fazer previsões em dados novos."
   ]
  },
  {
   "cell_type": "code",
   "execution_count": null,
   "metadata": {},
   "outputs": [],
   "source": []
  }
 ],
 "metadata": {
  "kernelspec": {
   "display_name": "Python 3",
   "language": "python",
   "name": "python3"
  },
  "language_info": {
   "codemirror_mode": {
    "name": "ipython",
    "version": 3
   },
   "file_extension": ".py",
   "mimetype": "text/x-python",
   "name": "python",
   "nbconvert_exporter": "python",
   "pygments_lexer": "ipython3",
   "version": "3.7.6"
  },
  "toc-autonumbering": false
 },
 "nbformat": 4,
 "nbformat_minor": 5
}
