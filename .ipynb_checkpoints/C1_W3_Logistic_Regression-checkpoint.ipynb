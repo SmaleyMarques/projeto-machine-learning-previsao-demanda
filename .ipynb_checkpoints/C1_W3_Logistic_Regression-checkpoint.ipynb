{
 "cells": [
  {
   "cell_type": "markdown",
   "metadata": {},
   "source": [
    "# Regressão Logística\n",
    "\n",
    "Neste exercício, você implementará a regressão logística e aplicará a dois conjuntos de dados diferentes.\n",
    "\n",
    "# Resumo\n",
    "- [1 - Pacotes](#1)\n",
    "- [2 - Regressão Logística](#2)\n",
    "  - [2.1 Enunciado do Problema](#2.1)\n",
    "  - [2.2 Carregando e visualizando os dados](#2.2)\n",
    "  - [2.3 Função Sigmoide](#2.3)\n",
    "  - [2.4 Função de custo para regressão logística](#2.4)\n",
    "  - [2.5 Gradiente para regressão logística](#2.5)\n",
    "  - [2.6 Aprendendo parâmetros usando descida de gradiente](#2.6)\n",
    "  - [2.7 Plotando a fronteira de decisão](#2.7)\n",
    "  - [2.8 Avaliando a regressão logística](#2.8)\n",
    "- [3 - Regressão Logística Regularizada](#3)\n",
    "  - [3.1 Enunciado do Problema](#3.1)\n",
    "  - [3.2 Carregando e visualizando os dados](#3.2)\n",
    "  - [3.3 Mapeamento de características](#3.3)\n",
    "  - [3.4 Função de custo para regressão logística regularizada](#3.4)\n",
    "  - [3.5 Gradiente para regressão logística regularizada](#3.5)\n",
    "  - [3.6 Aprendendo parâmetros usando descida de gradiente](#3.6)\n",
    "  - [3.7 Plotando a fronteira de decisão](#3.7)\n",
    "  - [3.8 Avaliando o modelo de regressão logística regularizada](#3.8)"
   ]
  },
  {
   "cell_type": "markdown",
   "metadata": {},
   "source": [
    "_**NOTA:** Para evitar erros no autograder, você não pode editar ou deletar células não avaliadas neste laboratório. Por favor, também evite adicionar novas células. **Uma vez que você tenha passado nesta tarefa** e quiser experimentar qualquer um dos códigos não avaliados, você pode seguir as instruções no final deste notebook._"
   ]
  },
  {
   "cell_type": "markdown",
   "metadata": {},
   "source": [
    "<a name=\"1\"></a>\n",
    "## 1 - Pacotes\n",
    "\n",
    "Primeiro, vamos executar a célula abaixo para importar todos os pacotes que você precisará durante esta tarefa.\n",
    "- [numpy](www.numpy.org) é o pacote fundamental para computação científica com Python.\n",
    "- [matplotlib](http://matplotlib.org) é uma biblioteca famosa para plotar gráficos em Python.\n",
    "- `utils.py` contém funções auxiliares para esta tarefa. Você não precisa modificar o código neste arquivo."
   ]
  },
  {
   "cell_type": "code",
   "execution_count": 1,
   "metadata": {
    "deletable": false,
    "editable": false
   },
   "outputs": [],
   "source": [
    "import numpy as np\n",
    "import matplotlib.pyplot as plt\n",
    "from utils import *\n",
    "import copy\n",
    "import math\n",
    "\n",
    "%matplotlib inline"
   ]
  },
  {
   "cell_type": "markdown",
   "metadata": {},
   "source": [
    "<a name=\"2\"></a>\n",
    "## 2 - Regressão Logística\n",
    "\n",
    "Nesta parte do exercício, você construirá um modelo de regressão logística para prever se um estudante será admitido em uma universidade.\n",
    "\n",
    "<a name=\"2.1\"></a>\n",
    "### 2.1 Enunciado do Problema\n",
    "\n",
    "Suponha que você é o administrador de um departamento universitário e deseja determinar a chance de admissão de cada candidato com base nos resultados de dois exames.\n",
    "* Você tem dados históricos de candidatos anteriores que podem ser usados como um conjunto de treinamento para regressão logística.\n",
    "* Para cada exemplo de treinamento, você tem as notas dos candidatos em dois exames e a decisão de admissão.\n",
    "* Sua tarefa é construir um modelo de classificação que estime a probabilidade de admissão de um candidato com base nas notas desses dois exames.\n",
    "\n",
    "<a name=\"2.2\"></a>\n",
    "### 2.2 Carregando e visualizando os dados\n",
    "\n",
    "Você começará carregando o conjunto de dados para esta tarefa.\n",
    "- A função `load_dataset()` mostrada abaixo carrega os dados em variáveis `X_train` e `y_train`.\n",
    "  - `X_train` contém as notas dos exames de dois exames para um estudante.\n",
    "  - `y_train` é a decisão de admissão.\n",
    "    - `y_train = 1` se o estudante foi admitido.\n",
    "    - `y_train = 0` se o estudante não foi admitido.\n",
    "  - Tanto `X_train` quanto `y_train` são arrays do numpy."
   ]
  },
  {
   "cell_type": "code",
   "execution_count": 2,
   "metadata": {
    "deletable": false
   },
   "outputs": [],
   "source": [
    "# carregar o conjunto de dados\n",
    "X_train, y_train = load_data(\"data/ex2data1.txt\")"
   ]
  },
  {
   "cell_type": "markdown",
   "metadata": {},
   "source": [
    "#### Visualizar as variáveis\n",
    "Vamos nos familiarizar mais com seu conjunto de dados.  \n",
    "- Um bom lugar para começar é simplesmente imprimir cada variável e ver o que ela contém.\n",
    "\n",
    "O código abaixo imprime os primeiros cinco valores de `X_train` e o tipo da variável."
   ]
  },
  {
   "cell_type": "code",
   "execution_count": 3,
   "metadata": {
    "deletable": false
   },
   "outputs": [
    {
     "name": "stdout",
     "output_type": "stream",
     "text": [
      "Os cinco primeiros elementos em X_train são:\n",
      " [[34.62365962 78.02469282]\n",
      " [30.28671077 43.89499752]\n",
      " [35.84740877 72.90219803]\n",
      " [60.18259939 86.3085521 ]\n",
      " [79.03273605 75.34437644]]\n",
      "Tipo de X_train: <class 'numpy.ndarray'>\n"
     ]
    }
   ],
   "source": [
    "print(\"Os cinco primeiros elementos em X_train são:\\n\", X_train[:5])\n",
    "print(\"Tipo de X_train:\", type(X_train))"
   ]
  },
  {
   "cell_type": "markdown",
   "metadata": {},
   "source": [
    "Agora imprima os primeiros cinco valores de `y_train`"
   ]
  },
  {
   "cell_type": "code",
   "execution_count": 4,
   "metadata": {
    "deletable": false
   },
   "outputs": [
    {
     "name": "stdout",
     "output_type": "stream",
     "text": [
      "Os cinco primeiros elementos em y_train são:\n",
      " [0. 0. 0. 1. 1.]\n",
      "Tipo de y_train: <class 'numpy.ndarray'>\n"
     ]
    }
   ],
   "source": [
    "print(\"Os cinco primeiros elementos em y_train são:\\n\", y_train[:5])\n",
    "print(\"Tipo de y_train:\", type(y_train))"
   ]
  },
  {
   "cell_type": "markdown",
   "metadata": {},
   "source": [
    "#### Verifique as dimensões das suas variáveis\n",
    "\n",
    "Outra maneira útil de se familiarizar com seus dados é visualizar suas dimensões. Vamos imprimir a forma de `X_train` e `y_train` e ver quantos exemplos de treinamento temos em nosso conjunto de dados."
   ]
  },
  {
   "cell_type": "code",
   "execution_count": 5,
   "metadata": {
    "deletable": false
   },
   "outputs": [
    {
     "name": "stdout",
     "output_type": "stream",
     "text": [
      "A forma de X_train é: (100, 2)\n",
      "A forma de y_train é: (100,)\n",
      "Temos m = 100 exemplos de treinamento\n"
     ]
    }
   ],
   "source": [
    "print('A forma de X_train é: ' + str(X_train.shape))\n",
    "print('A forma de y_train é: ' + str(y_train.shape))\n",
    "print('Temos m = %d exemplos de treinamento' % (len(y_train)))"
   ]
  },
  {
   "cell_type": "markdown",
   "metadata": {},
   "source": [
    "#### Visualizar os dados\n",
    "\n",
    "Antes de começar a implementar qualquer algoritmo de aprendizado, é sempre bom visualizar os dados, se possível.\n",
    "- O código abaixo exibe os dados em um gráfico 2D (como mostrado abaixo), onde os eixos são as notas dos dois exames, e os exemplos positivos e negativos são mostrados com marcadores diferentes.\n",
    "- Usamos uma função auxiliar no arquivo `utils.py` para gerar este gráfico.\n",
    "\n",
    "<img src=\"images/figure 1.png\" width=\"450\" height=\"450\">\n",
    "\n"
   ]
  },
  {
   "cell_type": "code",
   "execution_count": 6,
   "metadata": {
    "deletable": false
   },
   "outputs": [
    {
     "data": {
      "image/png": "[encoded data removed]",
      "text/plain": [
       "<Figure size 432x288 with 1 Axes>"
      ]
     },
     "metadata": {
      "needs_background": "light"
     },
     "output_type": "display_data"
    }
   ],
   "source": [
    "# Plotar exemplos\n",
    "plot_data(X_train, y_train[:], pos_label=\"Admitido\", neg_label=\"Não admitido\")\n",
    "\n",
    "# Definir o rótulo do eixo y\n",
    "plt.ylabel('Nota do Exame 2')\n",
    "# Definir o rótulo do eixo x\n",
    "plt.xlabel('Nota do Exame 1')\n",
    "plt.legend(loc=\"upper right\")\n",
    "plt.show()"
   ]
  },
  {
   "cell_type": "markdown",
   "metadata": {},
   "source": [
    "Seu objetivo é construir um modelo de regressão logística para ajustar esses dados.\n",
    "- Com este modelo, você pode prever se um novo estudante será admitido com base nas notas dos dois exames."
   ]
  },
  {
   "cell_type": "markdown",
   "metadata": {},
   "source": [
    "<a name=\"2.3\"></a>\n",
    "### 2.3 Função Sigmoide\n",
    "\n",
    "Lembre-se de que para a regressão logística, o modelo é representado como\n",
    "\n",
    "$$ f_{\\mathbf{w},b}(x) = g(\\mathbf{w}\\cdot \\mathbf{x} + b)$$\n",
    "\n",
    "onde a função $g$ é a função sigmoide. A função sigmoide é definida como:\n",
    "\n",
    "$$g(z) = \\frac{1}{1+e^{-z}}$$\n",
    "\n",
    "Vamos implementar a função sigmoide primeiro, para que ela possa ser usada no restante desta tarefa.\n",
    "\n",
    "<a name='ex-01'></a>\n",
    "### Exercício 1\n",
    "Por favor, complete a função `sigmoid` para calcular\n",
    "\n",
    "$$g(z) = \\frac{1}{1+e^{-z}}$$\n",
    "\n",
    "Note que \n",
    "- `z` nem sempre é um único número, mas também pode ser um array de números.\n",
    "- Se a entrada for um array de números, gostaríamos de aplicar a função sigmoide a cada valor no array de entrada.\n",
    "\n",
    "Se você ficar preso, pode consultar as dicas apresentadas após a célula abaixo para ajudar na implementação."
   ]
  },
  {
   "cell_type": "code",
   "execution_count": 7,
   "metadata": {},
   "outputs": [],
   "source": [
    "# UNQ_C1\n",
    "# GRADED FUNCTION: sigmoid\n",
    "def sigmoid(z):\n",
    "    \"\"\"\n",
    "    Calcula a função sigmoide de z\n",
    "\n",
    "    Args:\n",
    "        z (ndarray): Um escalar, array numpy de qualquer tamanho.\n",
    "\n",
    "    Returns:\n",
    "        g (ndarray): sigmoid(z), com a mesma forma de z\n",
    "         \n",
    "    \"\"\"\n",
    "      \n",
    "    ### INÍCIO DO CÓDIGO ###\n",
    "    g = 1 / (1 + np.exp(-z))\n",
    "    ### FIM DO CÓDIGO ###  \n",
    "    \n",
    "    return g"
   ]
  },
  {
   "cell_type": "markdown",
   "metadata": {},
   "source": [
    "<details>\n",
    "  <summary><font size=\"3\" color=\"darkgreen\"><b>Clique para dicas</b></font></summary>\n",
    "       \n",
    "   * `numpy` tem uma função chamada [`np.exp()`](https://numpy.org/doc/stable/reference/generated/numpy.exp.html), que oferece uma maneira conveniente de calcular o exponencial ( $e^{z}$) de todos os elementos no array de entrada (`z`).\n",
    "\n",
    "<details>\n",
    "          <summary><font size=\"2\" color=\"darkblue\"><b>Clique para mais dicas</b></font></summary>\n",
    "        \n",
    "  - Você pode traduzir $e^{-z}$ para código como `np.exp(-z)`.\n",
    "    \n",
    "  - Você pode traduzir $1/e^{-z}$ para código como `1/np.exp(-z)`.\n",
    "    \n",
    "    Se você ainda estiver preso, pode consultar as dicas apresentadas abaixo para descobrir como calcular `g`.\n",
    "\n",
    "    <details>\n",
    "          <summary><font size=\"2\" color=\"darkblue\"><b>Dica para calcular g</b></font></summary>\n",
    "        <code>g = 1 / (1 + np.exp(-z))</code>\n",
    "    </details>\n",
    "</details>"
   ]
  },
  {
   "cell_type": "markdown",
   "metadata": {},
   "source": [
    "Quando terminar, tente testar alguns valores chamando `sigmoid(x)` na célula abaixo.\n",
    "- Para grandes valores positivos de x, a sigmoide deve ser próxima de 1, enquanto para grandes valores negativos, a sigmoide deve ser próxima de 0.\n",
    "- Avaliar `sigmoid(0)` deve dar exatamente 0,5."
   ]
  },
  {
   "cell_type": "code",
   "execution_count": 8,
   "metadata": {
    "deletable": false
   },
   "outputs": [
    {
     "name": "stdout",
     "output_type": "stream",
     "text": [
      "sigmoid(0) = 0.5\n"
     ]
    }
   ],
   "source": [
    "# Nota: Você pode editar este valor\n",
    "value = 0\n",
    "\n",
    "print(f\"sigmoid({value}) = {sigmoid(value)}\")"
   ]
  },
  {
   "cell_type": "markdown",
   "metadata": {},
   "source": [
    "**Saída Esperada**:\n",
    "<table>\n",
    "  <tr>\n",
    "    <td> <b>sigmoid(0)<b></td>\n",
    "    <td> 0.5 </td> \n",
    "  </tr>\n",
    "</table>\n",
    "    \n",
    "- Como mencionado antes, seu código também deve funcionar com vetores e matrizes. Para uma matriz, sua função deve realizar a função sigmoide em cada elemento."
   ]
  },
  {
   "cell_type": "code",
   "execution_count": 9,
   "metadata": {
    "deletable": false
   },
   "outputs": [
    {
     "name": "stdout",
     "output_type": "stream",
     "text": [
      "sigmoid([ -1, 0, 1, 2]) = [0.26894142 0.5        0.73105858 0.88079708]\n",
      "\u001b[92mAll tests passed!\n"
     ]
    }
   ],
   "source": [
    "print (\"sigmoid([ -1, 0, 1, 2]) = \" + str(sigmoid(np.array([-1, 0, 1, 2]))))\n",
    "\n",
    "# UNIT TESTS\n",
    "from public_tests import *\n",
    "sigmoid_test(sigmoid)"
   ]
  },
  {
   "cell_type": "markdown",
   "metadata": {},
   "source": [
    "**Saída Esperada**:\n",
    "<table>\n",
    "  <tr>\n",
    "    <td> <b>sigmoid([ -1,  0,  1,  2])<b></td>\n",
    "    <td> [0.26894142 0.5        0.73105858 0.88079708] </td> \n",
    "  </tr>\n",
    "</table>"
   ]
  },
  {
   "cell_type": "markdown",
   "metadata": {},
   "source": [
    "<a name=\"2.4\"></a>\n",
    "### 2.4 Função de Custo para Regressão Logística\n",
    "\n",
    "Nesta seção, você implementará a função de custo para regressão logística.\n",
    "\n",
    "<a name='ex-02'></a>\n",
    "### Exercício 2\n",
    "\n",
    "Por favor, complete a função `compute_cost` usando as equações abaixo.\n",
    "\n",
    "Lembre-se de que para a regressão logística, a função de custo é da forma\n",
    "\n",
    "$$ J(\\mathbf{w},b) = \\frac{1}{m}\\sum_{i=0}^{m-1} \\left[ loss(f_{\\mathbf{w},b}(\\mathbf{x}^{(i)}), y^{(i)}) \\right] \\tag{1}$$\n",
    "\n",
    "onde\n",
    "* m é o número de exemplos de treinamento no conjunto de dados\n",
    "\n",
    "* $loss(f_{\\mathbf{w},b}(\\mathbf{x}^{(i)}), y^{(i)})$ é o custo para um único ponto de dados, que é\n",
    "\n",
    "    $$loss(f_{\\mathbf{w},b}(\\mathbf{x}^{(i)}), y^{(i)}) = (-y^{(i)} \\log\\left(f_{\\mathbf{w},b}\\left( \\mathbf{x}^{(i)} \\right) \\right) - \\left( 1 - y^{(i)}\\right) \\log \\left( 1 - f_{\\mathbf{w},b}\\left( \\mathbf{x}^{(i)} \\right) \\right) \\tag{2}$$\n",
    "    \n",
    "*  $f_{\\mathbf{w},b}(\\mathbf{x}^{(i)})$ é a previsão do modelo, enquanto $y^{(i)}$ é o rótulo real\n",
    "\n",
    "*  $f_{\\mathbf{w},b}(\\mathbf{x}^{(i)}) = g(\\mathbf{w} \\cdot \\mathbf{x^{(i)}} + b)$ onde a função $g$ é a função sigmoide.\n",
    "    * Pode ser útil primeiro calcular uma variável intermediária $z_{\\mathbf{w},b}(\\mathbf{x}^{(i)}) = \\mathbf{w} \\cdot \\mathbf{x^{(i)}} + b = w_0x^{(i)}_0 + ... + w_{n-1}x^{(i)}_{n-1} + b$ onde $n$ é o número de características, antes de calcular $f_{\\mathbf{w},b}(\\mathbf{x}^{(i)}) = g(z_{\\mathbf{w},b}(\\mathbf{x}^{(i)}))$\n",
    "\n",
    "Nota:\n",
    "* Enquanto você faz isso, lembre-se de que as variáveis `X_train` e `y_train` não são valores escalares, mas matrizes de forma ($m, n$) e ($𝑚$,1) respectivamente, onde $𝑛$ é o número de características e $𝑚$ é o número de exemplos de treinamento.\n",
    "* Você pode usar a função sigmoide que você implementou acima para esta parte.\n",
    "\n",
    "Se você ficar preso, pode conferir as dicas apresentadas após a célula abaixo para ajudar na implementação."
   ]
  },
  {
   "cell_type": "code",
   "execution_count": 10,
   "metadata": {},
   "outputs": [],
   "source": [
    "# UNQ_C2\n",
    "# GRADED FUNCTION: compute_cost\n",
    "def compute_cost(X, y, w, b, *argv):\n",
    "    \"\"\"\n",
    "    Calcula o custo sobre todos os exemplos\n",
    "    Args:\n",
    "      X : (ndarray Shape (m,n)) dados, m exemplos por n características\n",
    "      y : (ndarray Shape (m,))  valor alvo \n",
    "      w : (ndarray Shape (n,))  valores dos parâmetros do modelo      \n",
    "      b : (escalar)              valor do parâmetro de viés do modelo\n",
    "      *argv : não utilizado, para compatibilidade com a versão regularizada abaixo\n",
    "    Returns:\n",
    "      total_cost : (escalar) custo \n",
    "    \"\"\"\n",
    "\n",
    "    m, n = X.shape\n",
    "    \n",
    "    ### INÍCIO DO CÓDIGO ###\n",
    "    loss_sum = 0\n",
    "    # Loop sobre cada exemplo de treinamento\n",
    "    for i in range(m): \n",
    "\n",
    "        # Primeiro calcule z_wb = w[0]*X[i][0]+...+w[n-1]*X[i][n-1]+b\n",
    "        z_wb = 0 \n",
    "        # Loop sobre cada característica\n",
    "        for j in range(n): \n",
    "            # Adicione o termo correspondente a z_wb\n",
    "            z_wb_ij = w[j] * X[i][j]\n",
    "            z_wb += z_wb_ij # equivalente a z_wb = z_wb + z_wb_ij\n",
    "        # Adicione o termo de viés a z_wb\n",
    "        z_wb += b # equivalente a z_wb = z_wb + b\n",
    "\n",
    "        f_wb = sigmoid(z_wb)\n",
    "        loss =  -y[i] * np.log(f_wb) - (1 - y[i]) * np.log(1 - f_wb)\n",
    "\n",
    "        loss_sum += loss # equivalente a loss_sum = loss_sum + loss\n",
    "\n",
    "    total_cost = (1 / m) * loss_sum  \n",
    "    ### FIM DO CÓDIGO ### \n",
    "\n",
    "    return total_cost"
   ]
  },
  {
   "cell_type": "markdown",
   "metadata": {},
   "source": [
    "<details>\n",
    "<summary><font size=\"3\" color=\"darkgreen\"><b>Clique para dicas</b></font></summary>\n",
    "    \n",
    "* Você pode representar um operador de soma, por exemplo: $h = \\sum\\limits_{i = 0}^{m-1} 2i$ em código da seguinte forma:\n",
    "\n",
    "```python\n",
    "    h = 0\n",
    "    for i in range(m):\n",
    "        h = h + 2*i\n",
    "```\n",
    "<br>\n",
    "\n",
    "* Neste caso, você pode iterar sobre todos os exemplos em `X` usando um loop `for` e adicionar o `loss` de cada iteração a uma variável (`loss_sum`) inicializada fora do loop.\n",
    "\n",
    "* Em seguida, você pode retornar o `total_cost` como `loss_sum` dividido por `m`.\n",
    "\n",
    "* Se você é novo em Python, verifique se o seu código está devidamente indentado com espaços ou abas consistentes. Caso contrário, pode gerar uma saída diferente ou levantar um erro `IndentationError: unexpected indent`. Você pode consultar [este tópico](https://community.deeplearning.ai/t/indentation-in-python-indentationerror-unexpected-indent/159398) em nossa comunidade para mais detalhes.\n",
    "     \n",
    "<details>\n",
    "<summary><font size=\"2\" color=\"darkblue\"><b>Clique para mais dicas</b></font></summary>\n",
    "        \n",
    "* Aqui está como você pode estruturar a implementação geral para esta função\n",
    "        \n",
    "```python\n",
    "def compute_cost(X, y, w, b, *argv):\n",
    "    m, n = X.shape\n",
    "\n",
    "    ### INÍCIO DO CÓDIGO ###\n",
    "    loss_sum = 0 \n",
    "    \n",
    "    # Loop sobre cada exemplo de treinamento\n",
    "    for i in range(m): \n",
    "        \n",
    "        # Primeiro calcule z_wb = w[0]*X[i][0]+...+w[n-1]*X[i][n-1]+b\n",
    "        z_wb = 0 \n",
    "        # Loop sobre cada característica\n",
    "        for j in range(n): \n",
    "            # Adicione o termo correspondente a z_wb\n",
    "            z_wb_ij = # Seu código aqui para calcular w[j] * X[i][j]\n",
    "            z_wb += z_wb_ij # equivalente a z_wb = z_wb + z_wb_ij\n",
    "        # Adicione o termo de viés a z_wb\n",
    "        z_wb += b # equivalente a z_wb = z_wb + b\n",
    "        \n",
    "        f_wb = # Seu código aqui para calcular a previsão f_wb para um exemplo de treinamento\n",
    "        loss =  # Seu código aqui para calcular o loss para um exemplo de treinamento\n",
    "        \n",
    "        loss_sum += loss # equivalente a loss_sum = loss_sum + loss\n",
    "        \n",
    "    total_cost = (1 / m) * loss_sum  \n",
    "    ### FIM DO CÓDIGO ### \n",
    "    \n",
    "    return total_cost\n",
    "```\n",
    "<br>\n",
    "\n",
    "Se você ainda estiver preso, pode verificar as dicas apresentadas abaixo para descobrir como calcular `z_wb_ij`, `f_wb` e `cost`.\n",
    "\n",
    "<details>\n",
    "<summary><font size=\"2\" color=\"darkblue\"><b>Dica para calcular z_wb_ij</b></font></summary>\n",
    "           &emsp; &emsp; <code>z_wb_ij = w[j]*X[i][j] </code>\n",
    "</details>\n",
    "        \n",
    "<details>\n",
    "          <summary><font size=\"2\" color=\"darkblue\"><b>Dica para calcular f_wb</b></font></summary>\n",
    "           &emsp; &emsp; $f_{\\mathbf{w},b}(\\mathbf{x}^{(i)}) = g(z_{\\mathbf{w},b}(\\mathbf{x}^{(i)}))$ onde $g$ é a função sigmoide. Você pode simplesmente chamar a função `sigmoid` implementada acima.\n",
    "          <details>\n",
    "              <summary><font size=\"2\" color=\"blue\"><b>&emsp; &emsp; Mais dicas para calcular f</b></font></summary>\n",
    "               &emsp; &emsp; Você pode calcular f_wb como <code>f_wb = sigmoid(z_wb) </code>\n",
    "           </details>\n",
    "</details>\n",
    "\n",
    "<details>\n",
    "          <summary><font size=\"2\" color=\"darkblue\"><b>Dica para calcular o loss</b></font></summary>\n",
    "          &emsp; &emsp; Você pode usar a função <a href=\"https://numpy.org/doc/stable/reference/generated/numpy.log.html\">np.log</a> para calcular o logaritmo\n",
    "          <details>\n",
    "              <summary><font size=\"2\" color=\"blue\"><b>&emsp; &emsp; Mais dicas para calcular o loss</b></font></summary>\n",
    "              &emsp; &emsp; Você pode calcular o loss como <code>loss =  -y[i] * np.log(f_wb) - (1 - y[i]) * np.log(1 - f_wb)</code>\n",
    "</details>\n",
    "</details>\n",
    "        \n",
    "</details>"
   ]
  },
  {
   "cell_type": "markdown",
   "metadata": {},
   "source": [
    "Execute as células abaixo para verificar a sua implementação da função `compute_cost` com duas inicializações diferentes dos parâmetros $w$ e $b$"
   ]
  },
  {
   "cell_type": "code",
   "execution_count": 11,
   "metadata": {
    "deletable": false
   },
   "outputs": [
    {
     "name": "stdout",
     "output_type": "stream",
     "text": [
      "Custo com w e b iniciais (zeros): 0.693\n"
     ]
    }
   ],
   "source": [
    "m, n = X_train.shape\n",
    "\n",
    "# Calcular e exibir o custo com w e b inicializados a zeros\n",
    "initial_w = np.zeros(n)\n",
    "initial_b = 0.\n",
    "cost = compute_cost(X_train, y_train, initial_w, initial_b)\n",
    "print('Custo com w e b iniciais (zeros): {:.3f}'.format(cost))"
   ]
  },
  {
   "cell_type": "markdown",
   "metadata": {},
   "source": [
    "**Saída Esperada**:\n",
    "<table>\n",
    "  <tr>\n",
    "    <td> <b>Custo com w e b iniciais (zeros)<b></td>\n",
    "    <td> 0,693 </td> \n",
    "  </tr>\n",
    "</table>"
   ]
  },
  {
   "cell_type": "code",
   "execution_count": 12,
   "metadata": {
    "deletable": false
   },
   "outputs": [
    {
     "name": "stdout",
     "output_type": "stream",
     "text": [
      "Custo com w e b de teste (diferentes de zero): 0.218\n",
      "\u001b[92mAll tests passed!\n"
     ]
    }
   ],
   "source": [
    "# Calcular e exibir o custo com w e b diferentes de zero\n",
    "test_w = np.array([0.2, 0.2])\n",
    "test_b = -24.\n",
    "cost = compute_cost(X_train, y_train, test_w, test_b)\n",
    "\n",
    "print('Custo com w e b de teste (diferentes de zero): {:.3f}'.format(cost))\n",
    "\n",
    "\n",
    "# UNIT TESTS\n",
    "compute_cost_test(compute_cost)"
   ]
  },
  {
   "cell_type": "markdown",
   "metadata": {},
   "source": [
    "**Saída Esperada**:\n",
    "<table>\n",
    "  <tr>\n",
    "    <td> <b>Custo com w e b de teste (diferentes de zero):<b></td>\n",
    "    <td> 0,218 </td> \n",
    "  </tr>\n",
    "</table>"
   ]
  },
  {
   "cell_type": "markdown",
   "metadata": {},
   "source": [
    "<a name=\"2.5\"></a>\n",
    "### 2.5 Gradiente para regressão logística\n",
    "\n",
    "Nesta seção, você implementará o gradiente para regressão logística.\n",
    "\n",
    "Lembre-se de que o algoritmo de descida de gradiente é:\n",
    "\n",
    "$$\\begin{align*}& \\text{repetir até convergência:} \\; \\lbrace \\newline \\; & b := b -  \\alpha \\frac{\\partial J(\\mathbf{w},b)}{\\partial b} \\newline       \\; & w_j := w_j -  \\alpha \\frac{\\partial J(\\mathbf{w},b)}{\\partial w_j} \\tag{1}  \\; & \\text{para j := 0..n-1}\\newline & \\rbrace\\end{align*}$$\n",
    "\n",
    "onde, os parâmetros $b$, $w_j$ são todos atualizados simultaneamente"
   ]
  },
  {
   "cell_type": "markdown",
   "metadata": {},
   "source": [
    "<a name='ex-03'></a>\n",
    "### Exercício 3\n",
    "\n",
    "Por favor, complete a função `compute_gradient` para calcular $\\frac{\\partial J(\\mathbf{w},b)}{\\partial w}$, $\\frac{\\partial J(\\mathbf{w},b)}{\\partial b}$ a partir das equações (2) e (3) abaixo.\n",
    "\n",
    "$$\n",
    "\\frac{\\partial J(\\mathbf{w},b)}{\\partial b}  = \\frac{1}{m} \\sum\\limits_{i = 0}^{m-1} (f_{\\mathbf{w},b}(\\mathbf{x}^{(i)}) - \\mathbf{y}^{(i)}) \\tag{2}\n",
    "$$\n",
    "$$\n",
    "\\frac{\\partial J(\\mathbf{w},b)}{\\partial w_j}  = \\frac{1}{m} \\sum\\limits_{i = 0}^{m-1} (f_{\\mathbf{w},b}(\\mathbf{x}^{(i)}) - \\mathbf{y}^{(i)})x_{j}^{(i)} \\tag{3}\n",
    "$$\n",
    "* m é o número de exemplos de treinamento no conjunto de dados\n",
    "\n",
    "    \n",
    "*  $f_{\\mathbf{w},b}(x^{(i)})$ é a previsão do modelo, enquanto $y^{(i)}$ é o rótulo real\n",
    "\n",
    "\n",
    "- **Nota**: Embora este gradiente pareça idêntico ao gradiente da regressão linear, a fórmula é realmente diferente porque a regressão linear e a regressão logística têm definições diferentes de $f_{\\mathbf{w},b}(x)$.\n",
    "\n",
    "Como antes, você pode usar a função sigmoide que implementou acima e, se ficar preso, pode conferir as dicas apresentadas após a célula abaixo para ajudá-lo com a implementação."
   ]
  },
  {
   "cell_type": "code",
   "execution_count": 13,
   "metadata": {},
   "outputs": [],
   "source": [
    "# UNQ_C3\n",
    "# GRADED FUNCTION: compute_gradient\n",
    "def compute_gradient(X, y, w, b, *argv): \n",
    "    \"\"\"\n",
    "    Calcula o gradiente para regressão logística\n",
    " \n",
    "    Args:\n",
    "      X : (ndarray Shape (m,n)) dados, m exemplos por n características\n",
    "      y : (ndarray Shape (m,))  valor alvo \n",
    "      w : (ndarray Shape (n,))  valores dos parâmetros do modelo      \n",
    "      b : (escalar)              valor do parâmetro de viés do modelo\n",
    "      *argv : não utilizado, para compatibilidade com a versão regularizada abaixo\n",
    "    Returns\n",
    "      dj_dw : (ndarray Shape (n,)) O gradiente do custo em relação aos parâmetros w. \n",
    "      dj_db : (escalar)             O gradiente do custo em relação ao parâmetro b. \n",
    "    \"\"\"\n",
    "    m, n = X.shape\n",
    "    dj_dw = np.zeros(w.shape)\n",
    "    dj_db = 0.\n",
    "\n",
    "    ### INÍCIO DO CÓDIGO AQUI ### \n",
    "    for i in range(m):\n",
    "        # Calcular f_wb (exatamente como você fez na função compute_cost acima)\n",
    "        z_wb = 0\n",
    "        # Iterar sobre cada característica\n",
    "        for j in range(n): \n",
    "            # Adicionar o termo correspondente a z_wb\n",
    "            z_wb_ij = X[i, j] * w[j]\n",
    "            z_wb += z_wb_ij\n",
    "            \n",
    "        # Adicionar o termo de viés \n",
    "        z_wb += b\n",
    "        \n",
    "        # Calcular a previsão do modelo\n",
    "        f_wb = sigmoid(z_wb)\n",
    "        \n",
    "        # Calcular o gradiente para b deste exemplo\n",
    "        dj_db_i = f_wb - y[i]\n",
    "        \n",
    "        # adicionar isso a dj_db\n",
    "        dj_db += dj_db_i\n",
    "        \n",
    "        # obter dj_dw para cada atributo\n",
    "        for j in range(n):\n",
    "            # Seu código aqui para calcular o gradiente do exemplo i para o atributo j\n",
    "            dj_dw_ij = (f_wb - y[i])* X[i][j]\n",
    "            dj_dw[j] += dj_dw_ij\n",
    "        \n",
    "    # dividir dj_db e dj_dw pelo número total de exemplos\n",
    "    dj_dw = dj_dw / m\n",
    "    dj_db = dj_db / m\n",
    "    ### FIM DO CÓDIGO AQUI ###\n",
    "       \n",
    "    return dj_db, dj_dw"
   ]
  },
  {
   "cell_type": "markdown",
   "metadata": {},
   "source": [
    "<details>\n",
    "  <summary><font size=\"3\" color=\"darkgreen\"><b>Clique para dicas</b></font></summary>\n",
    "    \n",
    "    \n",
    "* Aqui está como você pode estruturar a implementação geral desta função\n",
    "    ```python \n",
    "       def compute_gradient(X, y, w, b, *argv): \n",
    "            m, n = X.shape\n",
    "            dj_dw = np.zeros(w.shape)\n",
    "            dj_db = 0.\n",
    "        \n",
    "            ### INÍCIO DO CÓDIGO AQUI ### \n",
    "            for i in range(m):\n",
    "                # Calcular f_wb (exatamente como você fez na função compute_cost acima)\n",
    "                f_wb = \n",
    "        \n",
    "                # Calcular o gradiente para b deste exemplo\n",
    "                dj_db_i = # Seu código aqui para calcular o erro\n",
    "        \n",
    "                # adicionar isso a dj_db\n",
    "                dj_db += dj_db_i\n",
    "        \n",
    "                # obter dj_dw para cada atributo\n",
    "                for j in range(n):\n",
    "                    # Seu código aqui para calcular o gradiente do exemplo i para o atributo j\n",
    "                    dj_dw_ij =  \n",
    "                    dj_dw[j] += dj_dw_ij\n",
    "        \n",
    "            # dividir dj_db e dj_dw pelo número total de exemplos\n",
    "            dj_dw = dj_dw / m\n",
    "            dj_db = dj_db / m\n",
    "            ### FIM DO CÓDIGO AQUI ###\n",
    "       \n",
    "            return dj_db, dj_dw\n",
    "    ```\n",
    "\n",
    "    * Se você é novo em Python, verifique se seu código está devidamente indentado com espaços ou tabulações consistentes. Caso contrário, pode produzir uma saída diferente ou gerar um erro de `IndentationError: unexpected indent`. Você pode consultar [este tópico](https://community.deeplearning.ai/t/indentation-in-python-indentationerror-unexpected-indent/159398) em nossa comunidade para mais detalhes.\n",
    "    * Se ainda estiver com dificuldades, você pode verificar as dicas apresentadas abaixo para descobrir como calcular `f_wb`, `dj_db_i` e `dj_dw_ij` \n",
    "    \n",
    "    <details>\n",
    "          <summary><font size=\"2\" color=\"darkblue\"><b>Dica para calcular f_wb</b></font></summary>\n",
    "           &emsp; &emsp; Lembre-se de que você calculou f_wb na função <code>compute_cost</code> acima — para dicas detalhadas sobre como calcular cada termo intermediário, consulte a seção de dicas abaixo daquele exercício\n",
    "           <details>\n",
    "              <summary><font size=\"2\" color=\"blue\"><b>&emsp; &emsp; Mais dicas para calcular f_wb</b></font></summary>\n",
    "              &emsp; &emsp; Você pode calcular f_wb como\n",
    "               <pre>\n",
    "               for i in range(m):   \n",
    "                   # Calcular f_wb (exatamente como você fez na função compute_cost acima)\n",
    "                   z_wb = 0\n",
    "                   # Iterar sobre cada característica\n",
    "                   for j in range(n): \n",
    "                       # Adicionar o termo correspondente a z_wb\n",
    "                       z_wb_ij = X[i, j] * w[j]\n",
    "                       z_wb += z_wb_ij\n",
    "            \n",
    "                   # Adicionar o termo de viés \n",
    "                   z_wb += b\n",
    "        \n",
    "                   # Calcular a previsão do modelo\n",
    "                   f_wb = sigmoid(z_wb)\n",
    "    </details>\n",
    "        \n",
    "    </details>\n",
    "    <details>\n",
    "          <summary><font size=\"2\" color=\"darkblue\"><b>Dica para calcular dj_db_i</b></font></summary>\n",
    "           &emsp; &emsp; Você pode calcular dj_db_i como <code>dj_db_i = f_wb - y[i]</code>\n",
    "    </details>\n",
    "        \n",
    "    <details>\n",
    "          <summary><font size=\"2\" color=\"darkblue\"><b>Dica para calcular dj_dw_ij</b></font></summary>\n",
    "        &emsp; &emsp; Você pode calcular dj_dw_ij como <code>dj_dw_ij = (f_wb - y[i])* X[i][j]</code>\n",
    "    </details>\n",
    "\n",
    "</details>"
   ]
  },
  {
   "cell_type": "markdown",
   "metadata": {},
   "source": [
    "Execute as células abaixo para verificar sua implementação da função `compute_gradient` com duas inicializações diferentes dos parâmetros $w$ e $b$"
   ]
  },
  {
   "cell_type": "code",
   "execution_count": 14,
   "metadata": {
    "deletable": false
   },
   "outputs": [
    {
     "name": "stdout",
     "output_type": "stream",
     "text": [
      "dj_db com w e b iniciais (zeros):-0.1\n",
      "dj_dw com w e b iniciais (zeros):[-12.00921658929115, -11.262842205513591]\n"
     ]
    }
   ],
   "source": [
    "# Calcular e exibir o gradiente com w e b inicializados como zeros\n",
    "initial_w = np.zeros(n)\n",
    "initial_b = 0.\n",
    "\n",
    "dj_db, dj_dw = compute_gradient(X_train, y_train, initial_w, initial_b)\n",
    "print(f'dj_db com w e b iniciais (zeros):{dj_db}' )\n",
    "print(f'dj_dw com w e b iniciais (zeros):{dj_dw.tolist()}' )"
   ]
  },
  {
   "cell_type": "markdown",
   "metadata": {},
   "source": [
    "**Saída Esperada**:\n",
    "<table>\n",
    "  <tr>\n",
    "    <td> <b>dj_db com w e b iniciais (zeros)<b></td>\n",
    "    <td> -0.1 </td> \n",
    "  </tr>\n",
    "  <tr>\n",
    "    <td> <b>dj_dw com w e b iniciais (zeros):<b></td>\n",
    "    <td> [-12.00921658929115, -11.262842205513591] </td> \n",
    "  </tr>\n",
    "</table>"
   ]
  },
  {
   "cell_type": "code",
   "execution_count": 15,
   "metadata": {
    "deletable": false
   },
   "outputs": [
    {
     "name": "stdout",
     "output_type": "stream",
     "text": [
      "dj_db com w e b de teste: -0.5999999999991071\n",
      "dj_dw com w e b de teste: [-44.831353617873795, -44.37384124953978]\n",
      "\u001b[92mAll tests passed!\n"
     ]
    }
   ],
   "source": [
    "# Calcular e exibir o custo e gradiente com w e b não nulos\n",
    "test_w = np.array([ 0.2, -0.5])\n",
    "test_b = -24\n",
    "dj_db, dj_dw  = compute_gradient(X_train, y_train, test_w, test_b)\n",
    "\n",
    "print('dj_db com w e b de teste:', dj_db)\n",
    "print('dj_dw com w e b de teste:', dj_dw.tolist() )\n",
    "\n",
    "# UNIT TESTS    \n",
    "compute_gradient_test(compute_gradient)"
   ]
  },
  {
   "cell_type": "markdown",
   "metadata": {},
   "source": [
    "**Saída Esperada**:\n",
    "<table>\n",
    "  <tr>\n",
    "    <td> <b>dj_db com w e b de teste:<b></td>\n",
    "    <td> -0.5999999999997627 </td> \n",
    "  </tr>\n",
    "  <tr>\n",
    "    <td> <b>dj_dw com w e b de teste:<b></td>\n",
    "    <td> [ -44.83799720912636, -44.39330400001238] </td> \n",
    "  </tr>\n",
    "</table>"
   ]
  },
  {
   "cell_type": "markdown",
   "metadata": {},
   "source": [
    "<a name=\"2.6\"></a>\n",
    "### 2.6 Aprendendo os parâmetros usando gradiente descendente\n",
    "\n",
    "Semelhante ao exercício anterior, você agora encontrará os parâmetros ótimos de um modelo de regressão logística usando gradiente descendente.\n",
    "- Você não precisa implementar nada para esta parte. Simplesmente execute as células abaixo.\n",
    "\n",
    "- Uma boa maneira de verificar se o gradiente descendente está funcionando corretamente é observar o valor de $J(\\mathbf{w},b)$ e verificar se está diminuindo a cada passo.\n",
    "\n",
    "- Supondo que você tenha implementado corretamente o gradiente e calculado o custo, o valor de $J(\\mathbf{w},b)$ nunca deve aumentar e deve convergir para um valor estável até o final do algoritmo."
   ]
  },
  {
   "cell_type": "code",
   "execution_count": 16,
   "metadata": {
    "deletable": false
   },
   "outputs": [],
   "source": [
    "def gradient_descent(X, y, w_in, b_in, cost_function, gradient_function, alpha, num_iters, lambda_): \n",
    "    \"\"\"\n",
    "    Realiza o gradiente descendente em lote para aprender theta. Atualiza theta dando \n",
    "    num_iters passos de gradiente com taxa de aprendizado alpha.\n",
    "    \n",
    "    Args:\n",
    "      X :    (ndarray Shape (m, n)) dados, m exemplos por n características\n",
    "      y :    (ndarray Shape (m,))  valor alvo \n",
    "      w_in : (ndarray Shape (n,))  Valores iniciais dos parâmetros do modelo\n",
    "      b_in : (escalar)              Valor inicial do parâmetro do modelo\n",
    "      cost_function :              função para calcular o custo\n",
    "      gradient_function :          função para calcular o gradiente\n",
    "      alpha : (float)              Taxa de aprendizado\n",
    "      num_iters : (int)            número de iterações para executar o gradiente descendente\n",
    "      lambda_ : (escalar, float)    constante de regularização\n",
    "      \n",
    "    Retorna:\n",
    "      w : (ndarray Shape (n,)) Valores atualizados dos parâmetros do modelo após\n",
    "          executar o gradiente descendente\n",
    "      b : (escalar)                Valor atualizado do parâmetro do modelo após\n",
    "          executar o gradiente descendente\n",
    "    \"\"\"\n",
    "    \n",
    "    # número de exemplos de treinamento\n",
    "    m = len(X)\n",
    "    \n",
    "    # Um array para armazenar o custo J e os valores de w em cada iteração, principalmente para gráficos posteriormente\n",
    "    J_history = []\n",
    "    w_history = []\n",
    "    \n",
    "    for i in range(num_iters):\n",
    "\n",
    "        # Calcular o gradiente e atualizar os parâmetros\n",
    "        dj_db, dj_dw = gradient_function(X, y, w_in, b_in, lambda_)   \n",
    "\n",
    "        # Atualizar os parâmetros usando w, b, alpha e gradiente\n",
    "        w_in = w_in - alpha * dj_dw               \n",
    "        b_in = b_in - alpha * dj_db              \n",
    "       \n",
    "        # Salvar o custo J em cada iteração\n",
    "        if i < 100000:  # prevenir esgotamento de recursos \n",
    "            cost = cost_function(X, y, w_in, b_in, lambda_)\n",
    "            J_history.append(cost)\n",
    "\n",
    "        # Imprimir o custo a cada intervalo de 10 vezes ou tantas iterações, se < 10\n",
    "        if i % math.ceil(num_iters / 10) == 0 or i == (num_iters - 1):\n",
    "            w_history.append(w_in)\n",
    "            print(f\"Iteração {i:4}: Custo {float(J_history[-1]):8.2f}   \")\n",
    "        \n",
    "    return w_in, b_in, J_history, w_history # retorna w e histórico de J,w para gráficos\n"
   ]
  },
  {
   "cell_type": "markdown",
   "metadata": {},
   "source": [
    "Agora vamos executar o algoritmo de gradiente descendente acima para aprender os parâmetros do nosso conjunto de dados.\n",
    "\n",
    "**Nota**\n",
    "O bloco de código abaixo leva alguns minutos para ser executado, especialmente com uma versão não vetorizada. Você pode reduzir as `iterations` para testar sua implementação e iterar mais rapidamente. Se tiver tempo mais tarde, tente executar 100.000 iterações para obter melhores resultados."
   ]
  },
  {
   "cell_type": "code",
   "execution_count": 17,
   "metadata": {
    "deletable": false
   },
   "outputs": [
    {
     "name": "stdout",
     "output_type": "stream",
     "text": [
      "Iteração    0: Custo     0.96   \n",
      "Iteração 1000: Custo     0.31   \n",
      "Iteração 2000: Custo     0.30   \n",
      "Iteração 3000: Custo     0.30   \n",
      "Iteração 4000: Custo     0.30   \n",
      "Iteração 5000: Custo     0.30   \n",
      "Iteração 6000: Custo     0.30   \n",
      "Iteração 7000: Custo     0.30   \n",
      "Iteração 8000: Custo     0.30   \n",
      "Iteração 9000: Custo     0.30   \n",
      "Iteração 9999: Custo     0.30   \n"
     ]
    }
   ],
   "source": [
    "np.random.seed(1)\n",
    "initial_w = 0.01 * (np.random.rand(2) - 0.5)\n",
    "initial_b = -8\n",
    "\n",
    "# Algumas configurações do gradiente descendente\n",
    "iterations = 10000\n",
    "alpha = 0.001\n",
    "\n",
    "w,b, J_history,_ = gradient_descent(X_train ,y_train, initial_w, initial_b, \n",
    "                                   compute_cost, compute_gradient, alpha, iterations, 0)"
   ]
  },
  {
   "cell_type": "markdown",
   "metadata": {},
   "source": [
    "<details>\n",
    "<summary>\n",
    "    <b>Resultado Esperado: Custo     0.30, (Clique para ver detalhes):</b>\n",
    "</summary>\n",
    "\n",
    "    # Com as seguintes configurações\n",
    "    np.random.seed(1)\n",
    "    initial_w = 0.01 * (np.random.rand(2) - 0.5)\n",
    "    initial_b = -8\n",
    "    iterations = 10000\n",
    "    alpha = 0.001\n",
    "    #\n",
    "\n",
    "```\n",
    "Iteração    0: Custo     0.96   \n",
    "Iteração 1000: Custo     0.31   \n",
    "Iteração 2000: Custo     0.30   \n",
    "Iteração 3000: Custo     0.30   \n",
    "Iteração 4000: Custo     0.30   \n",
    "Iteração 5000: Custo     0.30   \n",
    "Iteração 6000: Custo     0.30   \n",
    "Iteração 7000: Custo     0.30   \n",
    "Iteração 8000: Custo     0.30   \n",
    "Iteração 9000: Custo     0.30   \n",
    "Iteração 9999: Custo     0.30   \n",
    "```"
   ]
  },
  {
   "cell_type": "markdown",
   "metadata": {},
   "source": [
    "<a name=\"2.7\"></a>\n",
    "### 2.7 Plotando a fronteira de decisão\n",
    "\n",
    "Agora usaremos os parâmetros finais do gradiente descendente para plotar o ajuste linear. Se você implementou as partes anteriores corretamente, deverá ver um gráfico semelhante ao seguinte:\n",
    "<img src=\"images/figure 2.png\"  width=\"450\" height=\"450\">\n",
    "\n",
    "Usaremos uma função auxiliar no arquivo `utils.py` para criar este gráfico."
   ]
  },
  {
   "cell_type": "code",
   "execution_count": 18,
   "metadata": {
    "deletable": false
   },
   "outputs": [
    {
     "data": {
      "image/png": "[encoded data removed]",
      "text/plain": [
       "<Figure size 432x288 with 1 Axes>"
      ]
     },
     "metadata": {
      "needs_background": "light"
     },
     "output_type": "display_data"
    }
   ],
   "source": [
    "plot_decision_boundary(w, b, X_train, y_train)\n",
    "# Define o rótulo do eixo y\n",
    "plt.ylabel('Nota do Exame 2') \n",
    "# Define o rótulo do eixo x\n",
    "plt.xlabel('Nota do Exame 1') \n",
    "plt.legend(loc=\"upper right\")\n",
    "plt.show()\n"
   ]
  },
  {
   "cell_type": "markdown",
   "metadata": {},
   "source": [
    "<a name=\"2.8\"></a>\n",
    "### 2.8 Avaliando a regressão logística\n",
    "\n",
    "Podemos avaliar a qualidade dos parâmetros que encontramos verificando o quão bem o modelo aprendido prevê em nosso conjunto de treinamento.\n",
    "\n",
    "Você implementará a função `predict` abaixo para fazer isso.\n"
   ]
  },
  {
   "cell_type": "markdown",
   "metadata": {},
   "source": [
    "<a name='ex-04'></a>\n",
    "### Exercício 4\n",
    "\n",
    "Por favor, complete a função `predict` para produzir previsões de `1` ou `0` dado um conjunto de dados e um vetor de parâmetros aprendidos $w$ e $b$.\n",
    "- Primeiro, você precisa calcular a previsão do modelo $f(x^{(i)}) = g(w \\cdot x^{(i)} + b)$ para cada exemplo\n",
    "    - Você já implementou isso nas partes acima\n",
    "- Interpretamos a saída do modelo ($f(x^{(i)})$) como a probabilidade de que $y^{(i)}=1$ dado $x^{(i)}$ e parametrizado por $w$.\n",
    "- Portanto, para obter uma previsão final ($y^{(i)}=0$ ou $y^{(i)}=1$) do modelo de regressão logística, você pode usar a seguinte heurística:\n",
    "\n",
    "  se $f(x^{(i)}) >= 0.5$, prever $y^{(i)}=1$\n",
    "  \n",
    "  se $f(x^{(i)}) < 0.5$, prever $y^{(i)}=0$\n",
    "    \n",
    "Se você ficar preso, pode conferir as dicas apresentadas após a célula abaixo para ajudá-lo na implementação.\n"
   ]
  },
  {
   "cell_type": "code",
   "execution_count": 21,
   "metadata": {},
   "outputs": [],
   "source": [
    "# UNQ_C4\n",
    "# GRADED FUNCTION: predict\n",
    "\n",
    "def predict(X, w, b): \n",
    "    \"\"\"\n",
    "    Prever se o rótulo é 0 ou 1 usando os parâmetros de regressão logística aprendidos w\n",
    "    \n",
    "    Args:\n",
    "      X : (ndarray Shape (m,n)) dados, m exemplos por n características\n",
    "      w : (ndarray Shape (n,))  valores dos parâmetros do modelo      \n",
    "      b : (scalar)              valor do parâmetro de viés do modelo\n",
    "\n",
    "    Returns:\n",
    "      p : (ndarray (m,)) As previsões para X usando um limiar de 0,5\n",
    "    \"\"\"\n",
    "    # número de exemplos de treinamento\n",
    "    m, n = X.shape   \n",
    "    p = np.zeros(m)\n",
    "   \n",
    "    f_wb= 0\n",
    "    ### INÍCIO DO CÓDIGO ### \n",
    "    # Loop sobre cada exemplo\n",
    "    for i in range(m):   \n",
    "        z_wb = 0\n",
    "        # Loop sobre cada característica\n",
    "        for j in range(n):\n",
    "            # Adicione o termo correspondente a z_wb\n",
    "            z_wb_ij = X[i, j] * w[j]\n",
    "            z_wb += z_wb_ij\n",
    "        \n",
    "        # Adiciona o termo de viés \n",
    "        z_wb += b\n",
    "        \n",
    "        # Calcula a previsão para este exemplo\n",
    "        f_wb = sigmoid(z_wb)\n",
    "\n",
    "        # Aplica o limiar\n",
    "        p[i] = f_wb >= 0.5\n",
    "        \n",
    "    ### FIM DO CÓDIGO ### \n",
    "    return p"
   ]
  },
  {
   "cell_type": "markdown",
   "metadata": {},
   "source": [
    "<details>\n",
    "  <summary><font size=\"3\" color=\"darkgreen\"><b>Clique para ver dicas</b></font></summary>\n",
    "    \n",
    "* Aqui está como você pode estruturar a implementação geral para esta função:\n",
    "    ```python \n",
    "       def predict(X, w, b): \n",
    "            # número de exemplos de treinamento\n",
    "            m, n = X.shape   \n",
    "            p = np.zeros(m)\n",
    "   \n",
    "            ### INÍCIO DO CÓDIGO ### \n",
    "            # Loop sobre cada exemplo\n",
    "            for i in range(m):   \n",
    "                \n",
    "                # Calcule f_wb (exatamente como você fez na função compute_cost acima) \n",
    "                # usando algumas linhas de código\n",
    "                f_wb = \n",
    "\n",
    "                # Calcule a previsão para esse exemplo de treinamento \n",
    "                p[i] = # Seu código aqui para calcular a previsão com base em f_wb\n",
    "        \n",
    "            ### FIM DO CÓDIGO ### \n",
    "            return p\n",
    "    ```\n",
    "  \n",
    "    Se você ainda estiver com dificuldades, você pode verificar as dicas apresentadas abaixo para descobrir como calcular `f_wb` e `p[i]`.\n",
    "    \n",
    "    <details>\n",
    "          <summary><font size=\"2\" color=\"darkblue\"><b>Dica para calcular f_wb</b></font></summary>\n",
    "           &emsp; &emsp; Lembre-se de que você calculou f_wb na função <code>compute_cost</code> acima — para dicas detalhadas sobre como calcular cada termo intermediário, confira a seção de dicas abaixo desse exercício.\n",
    "           <details>\n",
    "              <summary><font size=\"2\" color=\"blue\"><b>&emsp; &emsp; Mais dicas para calcular f_wb</b></font></summary>\n",
    "              &emsp; &emsp; Você pode calcular f_wb como\n",
    "               <pre>\n",
    "               for i in range(m):   \n",
    "                   # Calcule f_wb (exatamente como você fez na função compute_cost acima)\n",
    "                   z_wb = 0\n",
    "                   # Loop sobre cada característica\n",
    "                   for j in range(n): \n",
    "                       # Adicione o termo correspondente a z_wb\n",
    "                       z_wb_ij = X[i, j] * w[j]\n",
    "                       z_wb += z_wb_ij\n",
    "            \n",
    "                   # Adicione o termo de viés \n",
    "                   z_wb += b\n",
    "        \n",
    "                   # Calcule a previsão do modelo\n",
    "                   f_wb = sigmoid(z_wb)\n",
    "    </details>\n",
    "        \n",
    "    </details>\n",
    "    <details>\n",
    "          <summary><font size=\"2\" color=\"darkblue\"><b>Dica para calcular p[i]</b></font></summary>\n",
    "           &emsp; &emsp; Por exemplo, se você quiser definir x = 1 se y for menor que 3 e 0 caso contrário, você pode expressar isso em código como <code>x = y < 3</code>. Agora faça o mesmo para p[i] = 1 se f_wb >= 0.5 e 0 caso contrário.\n",
    "           <details>\n",
    "              <summary><font size=\"2\" color=\"blue\"><b>&emsp; &emsp; Mais dicas para calcular p[i]</b></font></summary>\n",
    "              &emsp; &emsp; Você pode calcular p[i] como <code>p[i] = f_wb >= 0.5</code>\n",
    "          </details>\n",
    "    </details>\n",
    "\n",
    "</details>"
   ]
  },
  {
   "cell_type": "markdown",
   "metadata": {},
   "source": [
    "Depois de completar a função `predict`, execute o código abaixo para relatar a acurácia de treinamento do seu classificador, calculando a porcentagem de exemplos que ele acertou."
   ]
  },
  {
   "cell_type": "code",
   "execution_count": 22,
   "metadata": {
    "deletable": false
   },
   "outputs": [
    {
     "name": "stdout",
     "output_type": "stream",
     "text": [
      "Saída da previsão: formato (4,), valor [0. 1. 1. 1.]\n",
      "\u001b[92mAll tests passed!\n"
     ]
    }
   ],
   "source": [
    "# Teste seu código de previsão\n",
    "np.random.seed(1)\n",
    "tmp_w = np.random.randn(2)\n",
    "tmp_b = 0.3    \n",
    "tmp_X = np.random.randn(4, 2) - 0.5\n",
    "\n",
    "tmp_p = predict(tmp_X, tmp_w, tmp_b)\n",
    "print(f'Saída da previsão: formato {tmp_p.shape}, valor {tmp_p}')\n",
    "\n",
    "# UNIT TESTS        \n",
    "predict_test(predict)"
   ]
  },
  {
   "cell_type": "markdown",
   "metadata": {},
   "source": [
    "**Saída esperada**\n",
    "\n",
    "<table>\n",
    "  <tr>\n",
    "    <td> <b>Saída da previsão: formato (4,), valor [0. 1. 1. 1.]<b></td>\n",
    "  </tr>\n",
    "</table>"
   ]
  },
  {
   "cell_type": "markdown",
   "metadata": {},
   "source": [
    "Agora, vamos usar isso para calcular a precisão no conjunto de treinamento."
   ]
  },
  {
   "cell_type": "code",
   "execution_count": 23,
   "metadata": {
    "deletable": false
   },
   "outputs": [
    {
     "name": "stdout",
     "output_type": "stream",
     "text": [
      "Precisão no Treinamento: 92.000000\n"
     ]
    }
   ],
   "source": [
    "# Calcular a precisão no nosso conjunto de treinamento\n",
    "p = predict(X_train, w, b)\n",
    "print('Precisão no Treinamento: %f' % (np.mean(p == y_train) * 100))"
   ]
  },
  {
   "cell_type": "markdown",
   "metadata": {},
   "source": [
    "<table>\n",
    "  <tr>\n",
    "    <td> <b>Precisão no Treinamento (aproximadamente):<b></td>\n",
    "    <td> 92.00 </td> \n",
    "  </tr>\n",
    "</table>"
   ]
  },
  {
   "cell_type": "markdown",
   "metadata": {},
   "source": [
    "<a name=\"3\"></a>\n",
    "## 3 - Regressão Logística Regularizada\n",
    "\n",
    "Nesta parte do exercício, você implementará a regressão logística regularizada para prever se microchips de uma fábrica passam pela garantia de qualidade (QA). Durante a QA, cada microchip passa por vários testes para garantir que está funcionando corretamente.\n",
    "\n",
    "<a name=\"3.1\"></a>\n",
    "### 3.1 Declaração do Problema\n",
    "\n",
    "Suponha que você seja o gerente de produto da fábrica e tenha os resultados dos testes para alguns microchips em dois testes diferentes.\n",
    "- A partir desses dois testes, você gostaria de determinar se os microchips devem ser aceitos ou rejeitados.\n",
    "- Para ajudar você a tomar a decisão, você tem um conjunto de dados com os resultados de testes de microchips anteriores, com o qual você pode construir um modelo de regressão logística.\n",
    "\n",
    "<a name=\"3.2\"></a>\n",
    "### 3.2 Carregando e visualizando os dados\n",
    "\n",
    "Semelhante às partes anteriores deste exercício, vamos começar carregando o conjunto de dados para esta tarefa e visualizando-o.\n",
    "\n",
    "- A função `load_dataset()` mostrada abaixo carrega os dados nas variáveis `X_train` e `y_train`\n",
    "  - `X_train` contém os resultados dos testes dos microchips em dois testes\n",
    "  - `y_train` contém os resultados da QA  \n",
    "      - `y_train = 1` se o microchip foi aceito \n",
    "      - `y_train = 0` se o microchip foi rejeitado \n",
    "  - Tanto `X_train` quanto `y_train` são arrays numpy."
   ]
  },
  {
   "cell_type": "code",
   "execution_count": 24,
   "metadata": {
    "deletable": false
   },
   "outputs": [],
   "source": [
    "# carregar conjunto de dados\n",
    "X_train, y_train = load_data(\"data/ex2data2.txt\")"
   ]
  },
  {
   "cell_type": "markdown",
   "metadata": {},
   "source": [
    "#### Visualize as variáveis\n",
    "\n",
    "O código abaixo imprime os primeiros cinco valores de `X_train` e `y_train` e o tipo das variáveis."
   ]
  },
  {
   "cell_type": "code",
   "execution_count": 25,
   "metadata": {
    "deletable": false
   },
   "outputs": [
    {
     "name": "stdout",
     "output_type": "stream",
     "text": [
      "X_train: [[ 0.051267  0.69956 ]\n",
      " [-0.092742  0.68494 ]\n",
      " [-0.21371   0.69225 ]\n",
      " [-0.375     0.50219 ]\n",
      " [-0.51325   0.46564 ]]\n",
      "Tipo de X_train: <class 'numpy.ndarray'>\n",
      "y_train: [1. 1. 1. 1. 1.]\n",
      "Tipo de y_train: <class 'numpy.ndarray'>\n"
     ]
    }
   ],
   "source": [
    "# imprimir X_train\n",
    "print(\"X_train:\", X_train[:5])\n",
    "print(\"Tipo de X_train:\", type(X_train))\n",
    "\n",
    "# imprimir y_train\n",
    "print(\"y_train:\", y_train[:5])\n",
    "print(\"Tipo de y_train:\", type(y_train))"
   ]
  },
  {
   "cell_type": "markdown",
   "metadata": {},
   "source": [
    "#### Verifique as dimensões das suas variáveis\n",
    "\n",
    "Outra maneira útil de se familiarizar com seus dados é visualizar suas dimensões. Vamos imprimir a forma de `X_train` e `y_train` e ver quantos exemplos de treinamento temos em nosso conjunto de dados."
   ]
  },
  {
   "cell_type": "code",
   "execution_count": 26,
   "metadata": {
    "deletable": false
   },
   "outputs": [
    {
     "name": "stdout",
     "output_type": "stream",
     "text": [
      "A forma de X_train é: (118, 2)\n",
      "A forma de y_train é: (118,)\n",
      "Temos m = 118 exemplos de treinamento\n"
     ]
    }
   ],
   "source": [
    "print('A forma de X_train é: ' + str(X_train.shape))\n",
    "print('A forma de y_train é: ' + str(y_train.shape))\n",
    "print('Temos m = %d exemplos de treinamento' % (len(y_train)))"
   ]
  },
  {
   "cell_type": "markdown",
   "metadata": {},
   "source": [
    "#### Visualize seus dados\n",
    "\n",
    "A função auxiliar `plot_data` (de `utils.py`) é usada para gerar uma figura como a Figura 3, onde os eixos são os dois resultados dos testes, e os exemplos positivos (y = 1, aceito) e negativos (y = 0, rejeitado) são mostrados com marcadores diferentes.\n",
    "\n",
    "<img src=\"images/figure 3.png\" width=\"450\" height=\"450\">"
   ]
  },
  {
   "cell_type": "code",
   "execution_count": 27,
   "metadata": {
    "deletable": false
   },
   "outputs": [
    {
     "data": {
      "image/png": "[encoded data removed]",
      "text/plain": [
       "<Figure size 432x288 with 1 Axes>"
      ]
     },
     "metadata": {
      "needs_background": "light"
     },
     "output_type": "display_data"
    }
   ],
   "source": [
    "# Plotar exemplos\n",
    "plot_data(X_train, y_train[:], pos_label=\"Aceito\", neg_label=\"Rejeitado\")\n",
    "\n",
    "# Definir o rótulo do eixo y\n",
    "plt.ylabel('Teste de Microchip 2') \n",
    "# Definir o rótulo do eixo x\n",
    "plt.xlabel('Teste de Microchip 1') \n",
    "plt.legend(loc=\"upper right\")\n",
    "plt.show()"
   ]
  },
  {
   "cell_type": "markdown",
   "metadata": {},
   "source": [
    "A Figura 3 mostra que nosso conjunto de dados não pode ser separado em exemplos positivos e negativos por uma linha reta através do gráfico. Portanto, uma aplicação direta da regressão logística não funcionará bem neste conjunto de dados, já que a regressão logística só poderá encontrar um limite de decisão linear."
   ]
  },
  {
   "cell_type": "markdown",
   "metadata": {},
   "source": [
    "### 3.3 Mapeamento de Características\n",
    "\n",
    "Uma maneira de ajustar melhor os dados é criar mais características a partir de cada ponto de dados. Na função fornecida `map_feature`, mapeamos as características em todos os termos polinomiais de $x_1$ e $x_2$ até a sexta potência.\n",
    "\n",
    "$$\\mathrm{map\\_feature}(x) = \n",
    "\\left[\\begin{array}{c}\n",
    "x_1\\\\\n",
    "x_2\\\\\n",
    "x_1^2\\\\\n",
    "x_1 x_2\\\\\n",
    "x_2^2\\\\\n",
    "x_1^3\\\\\n",
    "\\vdots\\\\\n",
    "x_1 x_2^5\\\\\n",
    "x_2^6\\end{array}\\right]$$\n",
    "\n",
    "\n",
    "Como resultado desse mapeamento, nosso vetor de duas características (os resultados em dois testes de QA) foi transformado em um vetor de 27 dimensões.\n",
    "\n",
    "- Um classificador de regressão logística treinado nesse vetor de características de maior dimensão terá um limite de decisão mais complexo e será não linear quando desenhado em nosso gráfico 2-dimensional.\n",
    "- A função `map_feature` foi fornecida para você em `utils.py`."
   ]
  },
  {
   "cell_type": "code",
   "execution_count": 28,
   "metadata": {
    "deletable": false
   },
   "outputs": [
    {
     "name": "stdout",
     "output_type": "stream",
     "text": [
      "Forma original dos dados: (118, 2)\n",
      "Forma após o mapeamento de características: (118, 27)\n"
     ]
    }
   ],
   "source": [
    "print(\"Forma original dos dados:\", X_train.shape)\n",
    "\n",
    "mapped_X = map_feature(X_train[:, 0], X_train[:, 1])\n",
    "print(\"Forma após o mapeamento de características:\", mapped_X.shape)"
   ]
  },
  {
   "cell_type": "markdown",
   "metadata": {},
   "source": [
    "Vamos também imprimir os primeiros elementos de `X_train` e `mapped_X` para ver a transformação."
   ]
  },
  {
   "cell_type": "code",
   "execution_count": 29,
   "metadata": {
    "deletable": false
   },
   "outputs": [
    {
     "name": "stdout",
     "output_type": "stream",
     "text": [
      "X_train[0]: [0.051267 0.69956 ]\n",
      "mapped X_train[0]: [5.12670000e-02 6.99560000e-01 2.62830529e-03 3.58643425e-02\n",
      " 4.89384194e-01 1.34745327e-04 1.83865725e-03 2.50892595e-02\n",
      " 3.42353606e-01 6.90798869e-06 9.42624411e-05 1.28625106e-03\n",
      " 1.75514423e-02 2.39496889e-01 3.54151856e-07 4.83255257e-06\n",
      " 6.59422333e-05 8.99809795e-04 1.22782870e-02 1.67542444e-01\n",
      " 1.81563032e-08 2.47750473e-07 3.38066048e-06 4.61305487e-05\n",
      " 6.29470940e-04 8.58939846e-03 1.17205992e-01]\n"
     ]
    }
   ],
   "source": [
    "print(\"X_train[0]:\", X_train[0])\n",
    "print(\"mapped X_train[0]:\", mapped_X[0])"
   ]
  },
  {
   "cell_type": "markdown",
   "metadata": {},
   "source": [
    "Embora o mapeamento de características nos permita construir um classificador mais expressivo, ele também é mais suscetível ao sobreajuste. Nas próximas partes do exercício, você implementará a regressão logística regularizada para ajustar os dados e também verá como a regularização pode ajudar a combater o problema do sobreajuste.\n",
    "\n",
    "<a name=\"3.4\"></a>\n",
    "### 3.4 Função de Custo para Regressão Logística Regularizada\n",
    "\n",
    "Nesta parte, você implementará a função de custo para a regressão logística regularizada.\n",
    "\n",
    "Lembre-se de que, para a regressão logística regularizada, a função de custo é da forma\n",
    "$$J(\\mathbf{w},b) = \\frac{1}{m} \\sum_{i=0}^{m-1} \\left[ -y^{(i)} \\log\\left(f_{\\mathbf{w},b}\\left( \\mathbf{x}^{(i)} \\right) \\right) - \\left( 1 - y^{(i)}\\right) \\log \\left( 1 - f_{\\mathbf{w},b}\\left( \\mathbf{x}^{(i)} \\right) \\right) \\right] + \\frac{\\lambda}{2m} \\sum_{j=0}^{n-1} w_j^2$$\n",
    "\n",
    "Compare isso com a função de custo sem regularização (que você implementou acima), que é da forma \n",
    "\n",
    "$$ J(\\mathbf{w},b) = \\frac{1}{m}\\sum_{i=0}^{m-1} \\left[ -y^{(i)} \\log\\left(f_{\\mathbf{w},b}\\left( \\mathbf{x}^{(i)} \\right) \\right) - \\left( 1 - y^{(i)}\\right) \\log \\left( 1 - f_{\\mathbf{w},b}\\left( \\mathbf{x}^{(i)} \\right) \\right) \\right]$$\n",
    "\n",
    "A diferença é o termo de regularização, que é $$\\frac{\\lambda}{2m} \\sum_{j=0}^{n-1} w_j^2$$ \n",
    "Observe que o parâmetro $b$ não é regularizado."
   ]
  },
  {
   "cell_type": "markdown",
   "metadata": {},
   "source": [
    "<a name='ex-05'></a>\n",
    "### Exercício 5\n",
    "\n",
    "Por favor, complete a função `compute_cost_reg` abaixo para calcular o seguinte termo para cada elemento em $w$\n",
    "$$\\frac{\\lambda}{2m} \\sum_{j=0}^{n-1} w_j^2$$\n",
    "\n",
    "O código inicial então adiciona isso ao custo sem regularização (que você calculou acima em `compute_cost`) para calcular o custo com regularização.\n",
    "\n",
    "Se você ficar preso, pode conferir as dicas apresentadas após a célula abaixo para ajudá-lo com a implementação."
   ]
  },
  {
   "cell_type": "code",
   "execution_count": 31,
   "metadata": {},
   "outputs": [],
   "source": [
    "# UNQ_C5\n",
    "def compute_cost_reg(X, y, w, b, lambda_ = 1):\n",
    "    \"\"\"\n",
    "    Calcula o custo sobre todos os exemplos\n",
    "    Args:\n",
    "      X : (ndarray Shape (m,n)) dados, m exemplos por n características\n",
    "      y : (ndarray Shape (m,)) valor alvo \n",
    "      w : (ndarray Shape (n,)) valores dos parâmetros do modelo      \n",
    "      b : (escalar) valor do parâmetro de viés do modelo\n",
    "      lambda_ : (escala, float) Controla a quantidade de regularização\n",
    "    Returns:\n",
    "      total_cost : (escala) custo \n",
    "    \"\"\"\n",
    "\n",
    "    m, n = X.shape\n",
    "    \n",
    "    # Chama a função compute_cost que você implementou acima\n",
    "    cost_without_reg = compute_cost(X, y, w, b) \n",
    "    \n",
    "    # Você precisa calcular esse valor\n",
    "    reg_cost = 0.\n",
    "    \n",
    "    ### INÍCIO DO CÓDIGO AQUI ###\n",
    "    for j in range(n):\n",
    "        reg_cost_j = w[j]**2\n",
    "        reg_cost = reg_cost + reg_cost_j\n",
    "    reg_cost = (lambda_/(2 * m)) * reg_cost\n",
    "        \n",
    "    ### FIM DO CÓDIGO AQUI ### \n",
    "    \n",
    "    # Adiciona o custo de regularização para obter o custo total\n",
    "    total_cost = cost_without_reg + reg_cost\n",
    "\n",
    "    return total_cost"
   ]
  },
  {
   "cell_type": "markdown",
   "metadata": {},
   "source": [
    "<details>\n",
    "    <summary><font size=\"3\" color=\"darkgreen\"><b>Clique para dicas</b></font></summary>\n",
    "    \n",
    "    \n",
    "* Aqui está como você pode estruturar a implementação geral para esta função\n",
    "    \n",
    "    ```python\n",
    "    def compute_cost_reg(X, y, w, b, lambda_ = 1):\n",
    "   \n",
    "        m, n = X.shape\n",
    "\n",
    "        # Chama a função compute_cost que você implementou acima\n",
    "        cost_without_reg = compute_cost(X, y, w, b) \n",
    "\n",
    "        # Você precisa calcular esse valor\n",
    "        reg_cost = 0.\n",
    "\n",
    "        ### INÍCIO DO CÓDIGO AQUI ###\n",
    "        for j in range(n):\n",
    "            reg_cost_j = # Seu código aqui para calcular o custo de w[j]\n",
    "            reg_cost = reg_cost + reg_cost_j\n",
    "        reg_cost = (lambda_/(2 * m)) * reg_cost\n",
    "        ### FIM DO CÓDIGO AQUI ### \n",
    "\n",
    "        # Adiciona o custo de regularização para obter o custo total\n",
    "        total_cost = cost_without_reg + reg_cost\n",
    "\n",
    "    return total_cost\n",
    "    ```\n",
    "  \n",
    "    Se você ainda estiver preso, pode conferir as dicas apresentadas abaixo para descobrir como calcular `reg_cost_j` \n",
    "    \n",
    "    <details>\n",
    "        <summary><font size=\"2\" color=\"darkblue\"><b>Dica para calcular reg_cost_j</b></font></summary>\n",
    "        &emsp; &emsp; Você pode calcular reg_cost_j como <code>reg_cost_j = w[j]**2 </code> \n",
    "    </details>\n",
    "        \n",
    "    </details>\n",
    "\n",
    "</details>\n",
    "\n",
    "    "
   ]
  },
  {
   "cell_type": "markdown",
   "metadata": {},
   "source": [
    "Execute a célula abaixo para verificar sua implementação da função `compute_cost_reg`."
   ]
  },
  {
   "cell_type": "code",
   "execution_count": 32,
   "metadata": {
    "deletable": false
   },
   "outputs": [
    {
     "name": "stdout",
     "output_type": "stream",
     "text": [
      "Custo regularizado : 0.6618252552483948\n",
      "\u001b[92mAll tests passed!\n"
     ]
    }
   ],
   "source": [
    "X_mapped = map_feature(X_train[:, 0], X_train[:, 1])\n",
    "np.random.seed(1)\n",
    "initial_w = np.random.rand(X_mapped.shape[1]) - 0.5\n",
    "initial_b = 0.5\n",
    "lambda_ = 0.5\n",
    "cost = compute_cost_reg(X_mapped, y_train, initial_w, initial_b, lambda_)\n",
    "\n",
    "print(\"Custo regularizado :\", cost)\n",
    "\n",
    "# UNIT TEST    \n",
    "compute_cost_reg_test(compute_cost_reg)"
   ]
  },
  {
   "cell_type": "markdown",
   "metadata": {},
   "source": [
    "**Saída Esperada**:\n",
    "<table>\n",
    "  <tr>\n",
    "    <td> <b>Custo regularizado : <b></td>\n",
    "    <td> 0.6618252552483948 </td> \n",
    "  </tr>\n",
    "</table>"
   ]
  },
  {
   "cell_type": "markdown",
   "metadata": {},
   "source": [
    "<a name=\"3.5\"></a>\n",
    "### 3.5 Gradiente para Regressão Logística Regularizada\n",
    "\n",
    "Nesta seção, você implementará o gradiente para a regressão logística regularizada.\n",
    "\n",
    "O gradiente da função de custo regularizada possui dois componentes. O primeiro, $\\frac{\\partial J(\\mathbf{w},b)}{\\partial b}$, é um escalar; o outro é um vetor com a mesma forma dos parâmetros $\\mathbf{w}$, onde o $j^\\mathrm{th}$ elemento é definido como segue:\n",
    "\n",
    "$$\\frac{\\partial J(\\mathbf{w},b)}{\\partial b} = \\frac{1}{m}  \\sum_{i=0}^{m-1} (f_{\\mathbf{w},b}(\\mathbf{x}^{(i)}) - y^{(i)})  $$\n",
    "\n",
    "$$\\frac{\\partial J(\\mathbf{w},b)}{\\partial w_j} = \\left( \\frac{1}{m}  \\sum_{i=0}^{m-1} (f_{\\mathbf{w},b}(\\mathbf{x}^{(i)}) - y^{(i)}) x_j^{(i)} \\right) + \\frac{\\lambda}{m} w_j  \\quad\\, \\mbox{para $j=0...(n-1)$}$$\n",
    "\n",
    "Compare isto com o gradiente da função de custo sem regularização (que você implementou acima), que é da forma:\n",
    "$$\n",
    "\\frac{\\partial J(\\mathbf{w},b)}{\\partial b}  = \\frac{1}{m} \\sum\\limits_{i = 0}^{m-1} (f_{\\mathbf{w},b}(\\mathbf{x}^{(i)}) - \\mathbf{y}^{(i)}) \\tag{2}\n",
    "$$\n",
    "$$\n",
    "\\frac{\\partial J(\\mathbf{w},b)}{\\partial w_j}  = \\frac{1}{m} \\sum\\limits_{i = 0}^{m-1} (f_{\\mathbf{w},b}(\\mathbf{x}^{(i)}) - \\mathbf{y}^{(i)})x_{j}^{(i)} \\tag{3}\n",
    "$$\n",
    "\n",
    "Como você pode ver, $\\frac{\\partial J(\\mathbf{w},b)}{\\partial b}$ é o mesmo; a diferença está no seguinte termo em $\\frac{\\partial J(\\mathbf{w},b)}{\\partial w}$, que é $$\\frac{\\lambda}{m} w_j  \\quad\\, \\mbox{para $j=0...(n-1)$}$$"
   ]
  },
  {
   "cell_type": "markdown",
   "metadata": {},
   "source": [
    "<a name='ex-06'></a>\n",
    "### Exercício 6\n",
    "\n",
    "Por favor, complete a função `compute_gradient_reg` abaixo para modificar o código a seguir e calcular o seguinte termo:\n",
    "\n",
    "$$\\frac{\\lambda}{m} w_j  \\quad\\, \\mbox{para $j=0...(n-1)$}$$\n",
    "\n",
    "O código inicial adicionará esse termo ao $\\frac{\\partial J(\\mathbf{w},b)}{\\partial w}$ retornado pela função `compute_gradient` acima para obter o gradiente para a função de custo regularizada.\n",
    "\n",
    "Se você ficar preso, pode verificar as dicas apresentadas após a célula abaixo para ajudar na implementação."
   ]
  },
  {
   "cell_type": "code",
   "execution_count": 34,
   "metadata": {},
   "outputs": [],
   "source": [
    "# UNQ_C6\n",
    "def compute_gradient_reg(X, y, w, b, lambda_ = 1): \n",
    "    \"\"\"\n",
    "    Calcula o gradiente para a regressão logística com regularização\n",
    "\n",
    "    Args:\n",
    "      X : (ndarray Shape (m,n)) dados, m exemplos por n características\n",
    "      y : (ndarray Shape (m,)) valor alvo \n",
    "      w : (ndarray Shape (n,)) valores dos parâmetros do modelo      \n",
    "      b : (escalar) valor do parâmetro de viés do modelo\n",
    "      lambda_ : (escalar, float) constante de regularização\n",
    "    Returns\n",
    "      dj_db : (escalar) O gradiente do custo em relação ao parâmetro b. \n",
    "      dj_dw : (ndarray Shape (n,)) O gradiente do custo em relação aos parâmetros w. \n",
    "\n",
    "    \"\"\"\n",
    "    m, n = X.shape\n",
    "    \n",
    "    dj_db, dj_dw = compute_gradient(X, y, w, b)\n",
    "\n",
    "    ### COMEÇO DO CÓDIGO AQUI ###     \n",
    "    for j in range(n): \n",
    "\n",
    "        dj_dw_j_reg = (lambda_ / m) * w[j]\n",
    "\n",
    "        # Adicione o termo de regularização ao elemento correspondente de dj_dw\n",
    "        dj_dw[j] = dj_dw[j] + dj_dw_j_reg\n",
    "\n",
    "    ### FIM DO CÓDIGO AQUI ###         \n",
    "    \n",
    "    return dj_db, dj_dw"
   ]
  },
  {
   "cell_type": "markdown",
   "metadata": {},
   "source": [
    "<details>\n",
    "  <summary><font size=\"3\" color=\"darkgreen\"><b>Clique para dicas</b></font></summary>\n",
    "  \n",
    "* Aqui está como você pode estruturar a implementação geral para esta função\n",
    "\n",
    "  ```python\n",
    "      def compute_gradient_reg(X, y, w, b, lambda_ = 1): \n",
    "          m, n = X.shape\n",
    "      \n",
    "          dj_db, dj_dw = compute_gradient(X, y, w, b)\n",
    "\n",
    "          ### COMEÇO DO CÓDIGO AQUI ###     \n",
    "          # Percorra os elementos de w\n",
    "          for j in range(n): \n",
    "              \n",
    "              dj_dw_j_reg = # Seu código aqui para calcular o termo de regularização para dj_dw[j]\n",
    "              \n",
    "              # Adicione o termo de regularização ao elemento correspondente de dj_dw\n",
    "              dj_dw[j] = dj_dw[j] + dj_dw_j_reg\n",
    "          \n",
    "          ### FIM DO CÓDIGO AQUI ###         \n",
    "          \n",
    "          return dj_db, dj_dw\n",
    "  ```\n",
    "\n",
    "    Se você ainda estiver com dificuldades, pode conferir as dicas apresentadas abaixo para descobrir como calcular `dj_dw_j_reg`\n",
    "    \n",
    "    <details>\n",
    "          <summary><font size=\"2\" color=\"darkblue\"><b>Dica para calcular dj_dw_j_reg</b></font></summary>\n",
    "           &emsp; &emsp; Você pode calcular `dj_dw_j_reg` como <code>dj_dw_j_reg = (lambda_ / m) * w[j] </code> \n",
    "    </details>\n",
    "        \n",
    "    </details>\n",
    "\n",
    "</details>"
   ]
  },
  {
   "cell_type": "markdown",
   "metadata": {},
   "source": [
    "Execute a célula abaixo para verificar sua implementação da função `compute_gradient_reg`."
   ]
  },
  {
   "cell_type": "code",
   "execution_count": 35,
   "metadata": {
    "deletable": false
   },
   "outputs": [
    {
     "name": "stdout",
     "output_type": "stream",
     "text": [
      "dj_db: 0.07138288792343662\n",
      "Primeiros elementos de dj_dw regularizado:\n",
      " [-0.010386028450548701, 0.011409852883280124, 0.0536273463274574, 0.003140278267313462]\n",
      "\u001b[92mAll tests passed!\n"
     ]
    }
   ],
   "source": [
    "X_mapped = map_feature(X_train[:, 0], X_train[:, 1])\n",
    "np.random.seed(1) \n",
    "initial_w  = np.random.rand(X_mapped.shape[1]) - 0.5 \n",
    "initial_b = 0.5\n",
    " \n",
    "lambda_ = 0.5\n",
    "dj_db, dj_dw = compute_gradient_reg(X_mapped, y_train, initial_w, initial_b, lambda_)\n",
    "\n",
    "print(f\"dj_db: {dj_db}\", )\n",
    "print(f\"Primeiros elementos de dj_dw regularizado:\\n {dj_dw[:4].tolist()}\", )\n",
    "\n",
    "# UNIT TESTS    \n",
    "compute_gradient_reg_test(compute_gradient_reg)"
   ]
  },
  {
   "cell_type": "markdown",
   "metadata": {},
   "source": [
    "**Saída Esperada**:\n",
    "<table>\n",
    "  <tr>\n",
    "    <td> <b>dj_db:</b>0.07138288792343</td> </tr>\n",
    "  <tr>\n",
    "      <td> <b> Primeiros elementos de dj_dw regularizado:</b> </td> </tr>\n",
    "   <tr>\n",
    "   <td> [[-0.010386028450548], [0.011409852883280], [0.0536273463274], [0.003140278267313]] </td> \n",
    "  </tr>\n",
    "</table>"
   ]
  },
  {
   "cell_type": "markdown",
   "metadata": {},
   "source": [
    "<a name=\"3.6\"></a>\n",
    "### 3.6 Aprendendo os parâmetros usando gradiente descendente\n",
    "\n",
    "Semelhante às partes anteriores, você usará sua função de gradiente descendente implementada acima para aprender os parâmetros ótimos $w$, $b$.\n",
    "- Se você completou corretamente o custo e o gradiente para a regressão logística regularizada, você deve ser capaz de seguir a próxima célula para aprender os parâmetros $w$.\n",
    "- Após treinar nossos parâmetros, usaremos isso para plotar a fronteira de decisão.\n",
    "\n",
    "**Nota**\n",
    "\n",
    "O bloco de código abaixo leva um tempo considerável para rodar, especialmente com uma versão não vetorizada. Você pode reduzir as iterações para testar sua implementação e iterar mais rapidamente. Se tiver tempo depois, execute por 100.000 iterações para ver melhores resultados."
   ]
  },
  {
   "cell_type": "code",
   "execution_count": 36,
   "metadata": {
    "deletable": false
   },
   "outputs": [
    {
     "name": "stdout",
     "output_type": "stream",
     "text": [
      "Iteração    0: Custo     0.72   \n",
      "Iteração 1000: Custo     0.59   \n",
      "Iteração 2000: Custo     0.56   \n",
      "Iteração 3000: Custo     0.53   \n",
      "Iteração 4000: Custo     0.51   \n",
      "Iteração 5000: Custo     0.50   \n",
      "Iteração 6000: Custo     0.48   \n",
      "Iteração 7000: Custo     0.47   \n",
      "Iteração 8000: Custo     0.46   \n",
      "Iteração 9000: Custo     0.45   \n",
      "Iteração 9999: Custo     0.45   \n"
     ]
    }
   ],
   "source": [
    "# Inicialize os parâmetros de ajuste\n",
    "np.random.seed(1)\n",
    "initial_w = np.random.rand(X_mapped.shape[1])-0.5\n",
    "initial_b = 1.\n",
    "\n",
    "# Defina o parâmetro de regularização lambda_ (você pode tentar variar isso)\n",
    "lambda_ = 0.01    \n",
    "\n",
    "# Algumas configurações de gradiente descendente\n",
    "iterations = 10000\n",
    "alpha = 0.01\n",
    "\n",
    "w,b, J_history,_ = gradient_descent(X_mapped, y_train, initial_w, initial_b, \n",
    "                                    compute_cost_reg, compute_gradient_reg, \n",
    "                                    alpha, iterations, lambda_)"
   ]
  },
  {
   "cell_type": "markdown",
   "metadata": {},
   "source": [
    "<details>\n",
    "<summary>\n",
    "    <b>Saída Esperada: Custo < 0.5  (Clique para detalhes)</b>\n",
    "</summary>\n",
    "\n",
    "# Usando as seguintes configurações\n",
    "#np.random.seed(1)\n",
    "#initial_w = np.random.rand(X_mapped.shape[1])-0.5\n",
    "#initial_b = 1.\n",
    "#lambda_ = 0.01;                                          \n",
    "#iterations = 10000\n",
    "#alpha = 0.01\n",
    "Iteração    0: Custo     0.72   \n",
    "Iteração 1000: Custo     0.59   \n",
    "Iteração 2000: Custo     0.56   \n",
    "Iteração 3000: Custo     0.53   \n",
    "Iteração 4000: Custo     0.51   \n",
    "Iteração 5000: Custo     0.50   \n",
    "Iteração 6000: Custo     0.48   \n",
    "Iteração 7000: Custo     0.47   \n",
    "Iteração 8000: Custo     0.46   \n",
    "Iteração 9000: Custo     0.45   \n",
    "Iteração 9999: Custo     0.45"
   ]
  },
  {
   "cell_type": "markdown",
   "metadata": {},
   "source": [
    "<a name=\"3.7\"></a>\n",
    "### 3.7 Plotando a Fronteira de Decisão\n",
    "\n",
    "Para ajudá-lo a visualizar o modelo aprendido por este classificador, usaremos nossa função `plot_decision_boundary` que plota a fronteira de decisão (não linear) que separa os exemplos positivos e negativos.\n",
    "\n",
    "- Na função, plotamos a fronteira de decisão não linear calculando as previsões do classificador em uma grade espaçada uniformemente e, em seguida, desenhamos um gráfico de contorno onde as previsões mudam de y = 0 para y = 1.\n",
    "\n",
    "- Após aprender os parâmetros $w$, $b$, o próximo passo é plotar uma fronteira de decisão semelhante à Figura 4.\n",
    "\n",
    "<img src=\"images/figure 4.png\"  width=\"450\" height=\"450\">"
   ]
  },
  {
   "cell_type": "code",
   "execution_count": 37,
   "metadata": {
    "deletable": false
   },
   "outputs": [
    {
     "data": {
      "image/png": "[encoded data removed]",
      "text/plain": [
       "<Figure size 432x288 with 1 Axes>"
      ]
     },
     "metadata": {
      "needs_background": "light"
     },
     "output_type": "display_data"
    }
   ],
   "source": [
    "plot_decision_boundary(w, b, X_mapped, y_train)\n",
    "# Defina o rótulo do eixo y\n",
    "plt.ylabel('Teste de Microchip 2') \n",
    "# Defina o rótulo do eixo x\n",
    "plt.xlabel('Teste de Microchip 1') \n",
    "plt.legend(loc=\"upper right\")\n",
    "plt.show()"
   ]
  },
  {
   "cell_type": "markdown",
   "metadata": {},
   "source": [
    "<a name=\"3.8\"></a>\n",
    "### 3.8 Avaliando o Modelo de Regressão Logística Regularizada\n",
    "\n",
    "Você usará a função `predict` que você implementou acima para calcular a precisão do modelo de regressão logística regularizada no conjunto de treinamento."
   ]
  },
  {
   "cell_type": "code",
   "execution_count": 38,
   "metadata": {
    "deletable": false
   },
   "outputs": [
    {
     "name": "stdout",
     "output_type": "stream",
     "text": [
      "Precisão de Treinamento: 82.203390\n"
     ]
    }
   ],
   "source": [
    "# Calcule a precisão no conjunto de treinamento\n",
    "p = predict(X_mapped, w, b)\n",
    "\n",
    "print('Precisão de Treinamento: %f'%(np.mean(p == y_train) * 100))"
   ]
  },
  {
   "cell_type": "markdown",
   "metadata": {},
   "source": [
    "**Expected Output**:\n",
    "<table>\n",
    "  <tr>\n",
    "    <td> <b>Train Accuracy:</b>~ 80%</td> </tr>\n",
    "</table>"
   ]
  },
  {
   "cell_type": "markdown",
   "metadata": {},
   "source": [
    "**Congratulations on completing the final lab of this course! We hope to see you in Course 2 where you will use more advanced learning algorithms such as neural networks and decision trees. Keep learning!**"
   ]
  },
  {
   "cell_type": "markdown",
   "metadata": {},
   "source": [
    "<details>\n",
    "  <summary><font size=\"2\" color=\"darkgreen\"><b>Please click here if you want to experiment with any of the non-graded code.</b></font></summary>\n",
    "    <p><i><b>Important Note: Please only do this when you've already passed the assignment to avoid problems with the autograder.</b></i>\n",
    "    <ol>\n",
    "        <li> On the notebook’s menu, click “View” > “Cell Toolbar” > “Edit Metadata”</li>\n",
    "        <li> Hit the “Edit Metadata” button next to the code cell which you want to lock/unlock</li>\n",
    "        <li> Set the attribute value for “editable” to:\n",
    "            <ul>\n",
    "                <li> “true” if you want to unlock it </li>\n",
    "                <li> “false” if you want to lock it </li>\n",
    "            </ul>\n",
    "        </li>\n",
    "        <li> On the notebook’s menu, click “View” > “Cell Toolbar” > “None” </li>\n",
    "    </ol>\n",
    "    <p> Here's a short demo of how to do the steps above: \n",
    "        <br>\n",
    "        <img src=\"https://lh3.google.com/u/0/d/14Xy_Mb17CZVgzVAgq7NCjMVBvSae3xO1\" align=\"center\" alt=\"unlock_cells.gif\">\n",
    "</details>"
   ]
  }
 ],
 "metadata": {
  "celltoolbar": "Edit Metadata",
  "kernelspec": {
   "display_name": "Python 3",
   "language": "python",
   "name": "python3"
  },
  "language_info": {
   "codemirror_mode": {
    "name": "ipython",
    "version": 3
   },
   "file_extension": ".py",
   "mimetype": "text/x-python",
   "name": "python",
   "nbconvert_exporter": "python",
   "pygments_lexer": "ipython3",
   "version": "3.7.6"
  }
 },
 "nbformat": 4,
 "nbformat_minor": 4
}
